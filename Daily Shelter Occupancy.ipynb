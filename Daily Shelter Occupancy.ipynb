{
 "cells": [
  {
   "cell_type": "code",
   "execution_count": 2,
   "metadata": {},
   "outputs": [],
   "source": [
    "import pandas as pd"
   ]
  },
  {
   "cell_type": "code",
   "execution_count": 16,
   "metadata": {},
   "outputs": [],
   "source": [
    "# Reading latest data from City of Torotno (updated daily)\n",
    "df_current = pd.read_json('https://secure.toronto.ca/c3api_data/v2/DataAccess.svc/ssha/extractssha?$format=application/json;odata.metadata=none&unwrap=true&$top=100000&$select=OCCUPANCY_DATE,ORGANIZATION_NAME,SHELTER_NAME,SHELTER_ADDRESS,SHELTER_CITY,SHELTER_PROVINCE,SHELTER_POSTAL_CODE,FACILITY_NAME,PROGRAM_NAME,SECTOR,OCCUPANCY,CAPACITY&$orderby=OCCUPANCY_DATE,ORGANIZATION_NAME,SHELTER_NAME,FACILITY_NAME,PROGRAM_NAME')"
   ]
  },
  {
   "cell_type": "code",
   "execution_count": 10,
   "metadata": {},
   "outputs": [],
   "source": [
    "df_17 = pd.read_csv('daily-shelter-occupancy-2017-csv.csv')\n",
    "df_18 = pd.read_csv('daily-shelter-occupancy-2018-csv.csv')"
   ]
  },
  {
   "cell_type": "code",
   "execution_count": 27,
   "metadata": {},
   "outputs": [
    {
     "name": "stderr",
     "output_type": "stream",
     "text": [
      "/Applications/Anaconda/anaconda3/lib/python3.7/site-packages/ipykernel_launcher.py:1: FutureWarning: Sorting because non-concatenation axis is not aligned. A future version\n",
      "of pandas will change to not sort by default.\n",
      "\n",
      "To accept the future behavior, pass 'sort=False'.\n",
      "\n",
      "To retain the current behavior and silence the warning, pass 'sort=True'.\n",
      "\n",
      "  \"\"\"Entry point for launching an IPython kernel.\n"
     ]
    }
   ],
   "source": [
    "df = pd.concat([df_17, df_18, df_current])"
   ]
  },
  {
   "cell_type": "code",
   "execution_count": 28,
   "metadata": {},
   "outputs": [],
   "source": [
    "df = df.drop(['id', '_id'], axis=1)"
   ]
  },
  {
   "cell_type": "code",
   "execution_count": 49,
   "metadata": {},
   "outputs": [
    {
     "data": {
      "text/html": [
       "<div>\n",
       "<style scoped>\n",
       "    .dataframe tbody tr th:only-of-type {\n",
       "        vertical-align: middle;\n",
       "    }\n",
       "\n",
       "    .dataframe tbody tr th {\n",
       "        vertical-align: top;\n",
       "    }\n",
       "\n",
       "    .dataframe thead th {\n",
       "        text-align: right;\n",
       "    }\n",
       "</style>\n",
       "<table border=\"1\" class=\"dataframe\">\n",
       "  <thead>\n",
       "    <tr style=\"text-align: right;\">\n",
       "      <th></th>\n",
       "      <th>CAPACITY</th>\n",
       "      <th>FACILITY_NAME</th>\n",
       "      <th>OCCUPANCY</th>\n",
       "      <th>OCCUPANCY_DATE</th>\n",
       "      <th>ORGANIZATION_NAME</th>\n",
       "      <th>PROGRAM_NAME</th>\n",
       "      <th>SECTOR</th>\n",
       "      <th>SHELTER_ADDRESS</th>\n",
       "      <th>SHELTER_CITY</th>\n",
       "      <th>SHELTER_NAME</th>\n",
       "      <th>SHELTER_POSTAL_CODE</th>\n",
       "      <th>SHELTER_PROVINCE</th>\n",
       "    </tr>\n",
       "  </thead>\n",
       "  <tbody>\n",
       "    <tr>\n",
       "      <th>0</th>\n",
       "      <td>16.0</td>\n",
       "      <td>COSTI Reception Centre</td>\n",
       "      <td>16</td>\n",
       "      <td>2017-01-01T00:00:00</td>\n",
       "      <td>COSTI Immigrant Services</td>\n",
       "      <td>COSTI Reception Ctr CITY Program</td>\n",
       "      <td>Co-ed</td>\n",
       "      <td>100 Lippincott Street</td>\n",
       "      <td>Toronto</td>\n",
       "      <td>COSTI Reception Centre</td>\n",
       "      <td>M5S 2P1</td>\n",
       "      <td>ON</td>\n",
       "    </tr>\n",
       "    <tr>\n",
       "      <th>1</th>\n",
       "      <td>17.0</td>\n",
       "      <td>Christie Ossington Men's Hostel</td>\n",
       "      <td>13</td>\n",
       "      <td>2017-01-01T00:00:00</td>\n",
       "      <td>Christie Ossington Neighbourhood Centre</td>\n",
       "      <td>Christie Ossington Extreme Weather Program</td>\n",
       "      <td>Men</td>\n",
       "      <td>973 Lansdowne Avenue</td>\n",
       "      <td>Toronto</td>\n",
       "      <td>Christie Ossington Men's Hostel</td>\n",
       "      <td>M6H 3Z5</td>\n",
       "      <td>ON</td>\n",
       "    </tr>\n",
       "    <tr>\n",
       "      <th>2</th>\n",
       "      <td>63.0</td>\n",
       "      <td>Christie Ossington Men's Hostel</td>\n",
       "      <td>63</td>\n",
       "      <td>2017-01-01T00:00:00</td>\n",
       "      <td>Christie Ossington Neighbourhood Centre</td>\n",
       "      <td>Christie Ossington Men's Hostel</td>\n",
       "      <td>Men</td>\n",
       "      <td>973 Lansdowne Avenue</td>\n",
       "      <td>Toronto</td>\n",
       "      <td>Christie Ossington Men's Hostel</td>\n",
       "      <td>M6H 3Z5</td>\n",
       "      <td>ON</td>\n",
       "    </tr>\n",
       "    <tr>\n",
       "      <th>3</th>\n",
       "      <td>70.0</td>\n",
       "      <td>Christie Refugee Welcome Centre</td>\n",
       "      <td>66</td>\n",
       "      <td>2017-01-01T00:00:00</td>\n",
       "      <td>Christie Refugee Welcome Centre, Inc.</td>\n",
       "      <td>Christie Refugee Welcome Ctr - Settlement and ...</td>\n",
       "      <td>Families</td>\n",
       "      <td>43 Christie Street</td>\n",
       "      <td>Toronto</td>\n",
       "      <td>Christie Refugee Welcome Centre</td>\n",
       "      <td>M6G 3B1</td>\n",
       "      <td>ON</td>\n",
       "    </tr>\n",
       "    <tr>\n",
       "      <th>4</th>\n",
       "      <td>60.0</td>\n",
       "      <td>Birchmount Res 1673 Kingston Rd</td>\n",
       "      <td>58</td>\n",
       "      <td>2017-01-01T00:00:00</td>\n",
       "      <td>City of Toronto</td>\n",
       "      <td>Birchmount Residence</td>\n",
       "      <td>Men</td>\n",
       "      <td>1673 Kingston Road</td>\n",
       "      <td>Toronto</td>\n",
       "      <td>Birchmount Residence</td>\n",
       "      <td>NaN</td>\n",
       "      <td>ON</td>\n",
       "    </tr>\n",
       "  </tbody>\n",
       "</table>\n",
       "</div>"
      ],
      "text/plain": [
       "   CAPACITY                    FACILITY_NAME  OCCUPANCY       OCCUPANCY_DATE  \\\n",
       "0      16.0           COSTI Reception Centre         16  2017-01-01T00:00:00   \n",
       "1      17.0  Christie Ossington Men's Hostel         13  2017-01-01T00:00:00   \n",
       "2      63.0  Christie Ossington Men's Hostel         63  2017-01-01T00:00:00   \n",
       "3      70.0  Christie Refugee Welcome Centre         66  2017-01-01T00:00:00   \n",
       "4      60.0  Birchmount Res 1673 Kingston Rd         58  2017-01-01T00:00:00   \n",
       "\n",
       "                         ORGANIZATION_NAME  \\\n",
       "0                 COSTI Immigrant Services   \n",
       "1  Christie Ossington Neighbourhood Centre   \n",
       "2  Christie Ossington Neighbourhood Centre   \n",
       "3    Christie Refugee Welcome Centre, Inc.   \n",
       "4                          City of Toronto   \n",
       "\n",
       "                                        PROGRAM_NAME    SECTOR  \\\n",
       "0                   COSTI Reception Ctr CITY Program     Co-ed   \n",
       "1         Christie Ossington Extreme Weather Program       Men   \n",
       "2                    Christie Ossington Men's Hostel       Men   \n",
       "3  Christie Refugee Welcome Ctr - Settlement and ...  Families   \n",
       "4                               Birchmount Residence       Men   \n",
       "\n",
       "         SHELTER_ADDRESS SHELTER_CITY                     SHELTER_NAME  \\\n",
       "0  100 Lippincott Street      Toronto           COSTI Reception Centre   \n",
       "1   973 Lansdowne Avenue      Toronto  Christie Ossington Men's Hostel   \n",
       "2   973 Lansdowne Avenue      Toronto  Christie Ossington Men's Hostel   \n",
       "3     43 Christie Street      Toronto  Christie Refugee Welcome Centre   \n",
       "4     1673 Kingston Road      Toronto             Birchmount Residence   \n",
       "\n",
       "  SHELTER_POSTAL_CODE SHELTER_PROVINCE  \n",
       "0             M5S 2P1               ON  \n",
       "1             M6H 3Z5               ON  \n",
       "2             M6H 3Z5               ON  \n",
       "3             M6G 3B1               ON  \n",
       "4                 NaN               ON  "
      ]
     },
     "execution_count": 49,
     "metadata": {},
     "output_type": "execute_result"
    }
   ],
   "source": [
    "df.head()"
   ]
  },
  {
   "cell_type": "code",
   "execution_count": 38,
   "metadata": {},
   "outputs": [
    {
     "data": {
      "text/plain": [
       "145"
      ]
     },
     "execution_count": 38,
     "metadata": {},
     "output_type": "execute_result"
    }
   ],
   "source": [
    "len(df.PROGRAM_NAME.unique())"
   ]
  },
  {
   "cell_type": "code",
   "execution_count": 54,
   "metadata": {},
   "outputs": [
    {
     "data": {
      "text/plain": [
       "array(['COSTI Reception Ctr CITY Program'], dtype=object)"
      ]
     },
     "execution_count": 54,
     "metadata": {},
     "output_type": "execute_result"
    }
   ],
   "source": [
    "df[df.FACILITY_NAME == 'COSTI Reception Centre'].PROGRAM_NAME.unique()"
   ]
  },
  {
   "cell_type": "code",
   "execution_count": null,
   "metadata": {},
   "outputs": [],
   "source": [
    "# Checking facilities with multiple programs\n",
    "facility_names = df.FACILITY_NAME.unique()\n",
    "facility_programs = {}\n",
    "for facility_name in facility_names:\n",
    "    program_count = len(df[df.FACILITY_NAME == facility_name].PROGRAM_NAME.unique())\n",
    "    if program_count > 1:\n",
    "        facility_programs[facility_name] = df[df.FACILITY_NAME == facility_name].PROGRAM_NAME.unique()"
   ]
  }
 ],
 "metadata": {
  "kernelspec": {
   "display_name": "Python 3",
   "language": "python",
   "name": "python3"
  },
  "language_info": {
   "codemirror_mode": {
    "name": "ipython",
    "version": 3
   },
   "file_extension": ".py",
   "mimetype": "text/x-python",
   "name": "python",
   "nbconvert_exporter": "python",
   "pygments_lexer": "ipython3",
   "version": "3.7.3"
  }
 },
 "nbformat": 4,
 "nbformat_minor": 2
}
