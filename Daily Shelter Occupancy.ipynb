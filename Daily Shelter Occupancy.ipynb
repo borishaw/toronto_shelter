{
 "cells": [
  {
   "cell_type": "markdown",
   "metadata": {},
   "source": [
    "# Daily Shelter Occupancy in the City of Toronto"
   ]
  },
  {
   "cell_type": "markdown",
   "metadata": {},
   "source": [
    "## Import necessary modules"
   ]
  },
  {
   "cell_type": "code",
   "execution_count": 10,
   "metadata": {},
   "outputs": [],
   "source": [
    "import pandas as pd\n",
    "import IPython\n",
    "import plotly.graph_objects as go"
   ]
  },
  {
   "cell_type": "markdown",
   "metadata": {},
   "source": [
    "## Load data"
   ]
  },
  {
   "cell_type": "code",
   "execution_count": 2,
   "metadata": {},
   "outputs": [],
   "source": [
    "# Reading latest data from City of Torotno (updated daily)\n",
    "df_current = pd.read_json('https://secure.toronto.ca/c3api_data/v2/DataAccess.svc/ssha/extractssha?$format=application/json;odata.metadata=none&unwrap=true&$top=100000&$select=OCCUPANCY_DATE,ORGANIZATION_NAME,SHELTER_NAME,SHELTER_ADDRESS,SHELTER_CITY,SHELTER_PROVINCE,SHELTER_POSTAL_CODE,FACILITY_NAME,PROGRAM_NAME,SECTOR,OCCUPANCY,CAPACITY&$orderby=OCCUPANCY_DATE,ORGANIZATION_NAME,SHELTER_NAME,FACILITY_NAME,PROGRAM_NAME')"
   ]
  },
  {
   "cell_type": "code",
   "execution_count": 3,
   "metadata": {},
   "outputs": [],
   "source": [
    "# Loading data from previous years\n",
    "df_17 = pd.read_csv('data/daily-shelter-occupancy-2017-csv.csv')\n",
    "df_18 = pd.read_csv('data/daily-shelter-occupancy-2018-csv.csv')"
   ]
  },
  {
   "cell_type": "markdown",
   "metadata": {},
   "source": [
    "## Data Processing"
   ]
  },
  {
   "cell_type": "code",
   "execution_count": 4,
   "metadata": {},
   "outputs": [],
   "source": [
    "# concatenate 3 data frames \n",
    "df = pd.concat([df_17, df_18, df_current], sort=False)"
   ]
  },
  {
   "cell_type": "code",
   "execution_count": 5,
   "metadata": {},
   "outputs": [],
   "source": [
    "# Dropping unnecessary columns\n",
    "df = df.drop(['id', '_id'], axis=1)"
   ]
  },
  {
   "cell_type": "code",
   "execution_count": 6,
   "metadata": {},
   "outputs": [],
   "source": []
  },
  {
   "cell_type": "code",
   "execution_count": 9,
   "metadata": {},
   "outputs": [],
   "source": [
    "# Checking programs with multiple facilities\n",
    "program_names = df.PROGRAM_NAME.unique()\n",
    "program_facilities = {}\n",
    "for program_name in program_names:\n",
    "    unique_facility_names = df[df.PROGRAM_NAME == program_name].FACILITY_NAME.unique()\n",
    "    facility_count = len(unique_facility_names)\n",
    "    if facility_count > 1:\n",
    "        program_facilities[program_name] = unique_facility_names"
   ]
  },
  {
   "cell_type": "markdown",
   "metadata": {},
   "source": [
    "## Visualizations"
   ]
  },
  {
   "cell_type": "markdown",
   "metadata": {},
   "source": [
    "### Shleter locations on Google Maps"
   ]
  },
  {
   "cell_type": "code",
   "execution_count": 8,
   "metadata": {},
   "outputs": [
    {
     "data": {
      "text/html": [
       "\n",
       "        <iframe\n",
       "            width=\"640\"\n",
       "            height=\"480\"\n",
       "            src=\"https://www.google.com/maps/d/embed?mid=1vjoRnGFoyIIwg8O95s-FITXUOQzTunce\"\n",
       "            frameborder=\"0\"\n",
       "            allowfullscreen\n",
       "        ></iframe>\n",
       "        "
      ],
      "text/plain": [
       "<IPython.lib.display.IFrame at 0x109f6f860>"
      ]
     },
     "execution_count": 8,
     "metadata": {},
     "output_type": "execute_result"
    }
   ],
   "source": [
    "url = 'https://www.google.com/maps/d/embed?mid=1vjoRnGFoyIIwg8O95s-FITXUOQzTunce'\n",
    "IPython.display.IFrame(url, width=640, height=480)"
   ]
  },
  {
   "cell_type": "markdown",
   "metadata": {},
   "source": [
    "### Number of Facilities by Type"
   ]
  },
  {
   "cell_type": "code",
   "execution_count": 21,
   "metadata": {},
   "outputs": [
    {
     "data": {
      "text/plain": [
       "Index(['OCCUPANCY_DATE', 'ORGANIZATION_NAME', 'SHELTER_NAME',\n",
       "       'SHELTER_ADDRESS', 'SHELTER_CITY', 'SHELTER_PROVINCE',\n",
       "       'SHELTER_POSTAL_CODE', 'FACILITY_NAME', 'PROGRAM_NAME', 'SECTOR',\n",
       "       'OCCUPANCY', 'CAPACITY'],\n",
       "      dtype='object')"
      ]
     },
     "execution_count": 21,
     "metadata": {},
     "output_type": "execute_result"
    }
   ],
   "source": [
    "df.columns"
   ]
  },
  {
   "cell_type": "code",
   "execution_count": 24,
   "metadata": {},
   "outputs": [
    {
     "data": {
      "text/plain": [
       "SHELTER_NAME                      FACILITY_NAME                   \n",
       "Birchmount Residence              Birchmount Res 1673 Kingston Rd      730\n",
       "Birkdale Residence                Birkdale Residence                  1032\n",
       "                                  Birkdale Residence Motel (Fam)      1485\n",
       "                                  Birkdale Residence Motel (Men's)     752\n",
       "                                  Birkdale Residence Motel(Co-Ed)      245\n",
       "COSTI Reception Centre            COSTI  Edward Hotel (Families)       608\n",
       "                                  COSTI Edward Hotel (Singles)         608\n",
       "                                  COSTI Quality Suite (Singles)        283\n",
       "                                  COSTI Quality Suites (Fam)           283\n",
       "                                  COSTI Quality Suites (Families)       66\n",
       "                                  COSTI Quality Suites (Singles)        66\n",
       "                                  COSTI Radisson Hotel                 896\n",
       "                                  COSTI Reception Centre              1032\n",
       "Christie Ossington Men's Hostel   Christie Ossington Men's Hostel     1592\n",
       "                                  Christie Ossington South Hostel     1022\n",
       "Christie Refugee Welcome Centre   CR Welcome Centre(Singles)            38\n",
       "                                  Christie Refugee Welcome Centre     1032\n",
       "Cornerstone Place                 Cornerstone 616 Vaughan Rd.         1032\n",
       "Covenant House                    Covenant House-20 Gerrard St. E.    2064\n",
       "                                  Covenant House-21 McGill Street     1032\n",
       "Dixon Hall - Heyworth House       Dixon Hall - Heyworth House         2064\n",
       "Dixon Hall - Schoolhouse          Dixon Hall-School House             1032\n",
       "Downsview Dells                   Downsview Dells 1651 Sheppard W     1032\n",
       "Dufferin Women's Shelter          Dufferin Women's Shelter               2\n",
       "Eagles Nest Transition House      Eagle's Nest Transistion House      1032\n",
       "Eva's Phoenix                     Eva's Phoenix                       1032\n",
       "Eva's Place                       Eva's Place                         1032\n",
       "Eva's Satellite                   Eva's Satellite                     2064\n",
       "FV Women's Transition to Housing  Fred Victor 389 Church Street        365\n",
       "                                  Fred Victor 512 Jarvis St.           667\n",
       "                                                                      ... \n",
       "Seaton House                      Seaton O'Neill Co-Ed                 464\n",
       "Second Base Youth Shelter         Second Base Youth Shelter            414\n",
       "Sojourn House                     Sojourn House                       1032\n",
       "                                  Sojourn House(Singles)              1032\n",
       "                                  Sojourn House-Grange (Family)        593\n",
       "Sojourn House - Queens Drive      Sojourn House - Queens Drive         186\n",
       "St. Simon's Shelter               St.Simon's 525 Bloor Street East    2066\n",
       "Street Haven                      Street Haven - 87 Pembroke St       2064\n",
       "Streets To Homes                  129 Peter St                         302\n",
       "                                  COTA                                 302\n",
       "Toronto Community Hostel          TCH 191 Spadina Rd(Singles)          701\n",
       "                                  Tor. Comm. Hostel 191 Spadina Rd    1032\n",
       "Touchstone Youth Centre           Touchstone Youth Centre                4\n",
       "Turning Point Youth Services      Turning Point Youth Services        1032\n",
       "Univ Settlement House - OOTC      U. Settlement OOTC-23 Grange Rd     1174\n",
       "Women's Residence                 Womens Res-Alexandra Hotel            88\n",
       "                                  Womens Res. - Alexandra Hotel        207\n",
       "                                  Womens' Res - 63 Bellwoods Ave.     1032\n",
       "                                  Womens' Res - 674 Dundas St. W      2064\n",
       "YMCA House                        YMCA House                             2\n",
       "                                  Yhouse - Vanauley                   1032\n",
       "YMCA Sprott House                 YMCA Sprott House Walmer Rd         1032\n",
       "YWCA - Beatrice House             YWCA - Beatrice House                221\n",
       "YWCA - First Stop Woodlawn        YWCA-80 Woodlawn Av. E.-Women       1032\n",
       "                                  YWCA-80 Woodlawn Ave. E.-Youth      1032\n",
       "YWCA-348 Davenport                YWCA - 348 Davenport Road Women      282\n",
       "                                  YWCA - 348 Davenport Road Youth      278\n",
       "Youth Without Shelter             Youth w/o Shelter Emerg Shelter     1032\n",
       "                                  Youth w/o Shltr Transitional Res    1032\n",
       "YouthLink Shelter                 YouthLink - 747 Warden Ave           356\n",
       "Length: 110, dtype: int64"
      ]
     },
     "execution_count": 24,
     "metadata": {},
     "output_type": "execute_result"
    }
   ],
   "source": [
    "df.groupby(['SHELTER_NAME', 'FACILITY_NAME']).size()"
   ]
  }
 ],
 "metadata": {
  "kernelspec": {
   "display_name": "Python 3",
   "language": "python",
   "name": "python3"
  },
  "language_info": {
   "codemirror_mode": {
    "name": "ipython",
    "version": 3
   },
   "file_extension": ".py",
   "mimetype": "text/x-python",
   "name": "python",
   "nbconvert_exporter": "python",
   "pygments_lexer": "ipython3",
   "version": "3.7.3"
  }
 },
 "nbformat": 4,
 "nbformat_minor": 2
}
