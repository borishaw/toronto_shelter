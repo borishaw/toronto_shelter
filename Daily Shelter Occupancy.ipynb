{
 "cells": [
  {
   "cell_type": "markdown",
   "metadata": {},
   "source": [
    "# Daily Shelter Occupancy in the City of Toronto"
   ]
  },
  {
   "cell_type": "markdown",
   "metadata": {},
   "source": [
    "## Import necessary modules"
   ]
  },
  {
   "cell_type": "code",
   "execution_count": 1,
   "metadata": {},
   "outputs": [],
   "source": [
    "import pandas as pd"
   ]
  },
  {
   "cell_type": "code",
   "execution_count": 3,
   "metadata": {},
   "outputs": [],
   "source": [
    "# Reading latest data from City of Torotno (updated daily)\n",
    "df_current = pd.read_json('https://secure.toronto.ca/c3api_data/v2/DataAccess.svc/ssha/extractssha?$format=application/json;odata.metadata=none&unwrap=true&$top=100000&$select=OCCUPANCY_DATE,ORGANIZATION_NAME,SHELTER_NAME,SHELTER_ADDRESS,SHELTER_CITY,SHELTER_PROVINCE,SHELTER_POSTAL_CODE,FACILITY_NAME,PROGRAM_NAME,SECTOR,OCCUPANCY,CAPACITY&$orderby=OCCUPANCY_DATE,ORGANIZATION_NAME,SHELTER_NAME,FACILITY_NAME,PROGRAM_NAME')"
   ]
  },
  {
   "cell_type": "code",
   "execution_count": 2,
   "metadata": {},
   "outputs": [],
   "source": [
    "# Loading data from previous years\n",
    "df_17 = pd.read_csv('data/daily-shelter-occupancy-2017-csv.csv')\n",
    "df_18 = pd.read_csv('data/daily-shelter-occupancy-2018-csv.csv')"
   ]
  },
  {
   "cell_type": "code",
   "execution_count": 5,
   "metadata": {},
   "outputs": [],
   "source": [
    "# concatenate 3 data frames \n",
    "df = pd.concat([df_17, df_18, df_current], sort=False)"
   ]
  },
  {
   "cell_type": "code",
   "execution_count": 28,
   "metadata": {},
   "outputs": [],
   "source": [
    "# Dropping unnecessary columns\n",
    "df = df.drop(['id', '_id'], axis=1)"
   ]
  },
  {
   "cell_type": "code",
   "execution_count": 49,
   "metadata": {},
   "outputs": [
    {
     "data": {
      "text/html": [
       "<div>\n",
       "<style scoped>\n",
       "    .dataframe tbody tr th:only-of-type {\n",
       "        vertical-align: middle;\n",
       "    }\n",
       "\n",
       "    .dataframe tbody tr th {\n",
       "        vertical-align: top;\n",
       "    }\n",
       "\n",
       "    .dataframe thead th {\n",
       "        text-align: right;\n",
       "    }\n",
       "</style>\n",
       "<table border=\"1\" class=\"dataframe\">\n",
       "  <thead>\n",
       "    <tr style=\"text-align: right;\">\n",
       "      <th></th>\n",
       "      <th>CAPACITY</th>\n",
       "      <th>FACILITY_NAME</th>\n",
       "      <th>OCCUPANCY</th>\n",
       "      <th>OCCUPANCY_DATE</th>\n",
       "      <th>ORGANIZATION_NAME</th>\n",
       "      <th>PROGRAM_NAME</th>\n",
       "      <th>SECTOR</th>\n",
       "      <th>SHELTER_ADDRESS</th>\n",
       "      <th>SHELTER_CITY</th>\n",
       "      <th>SHELTER_NAME</th>\n",
       "      <th>SHELTER_POSTAL_CODE</th>\n",
       "      <th>SHELTER_PROVINCE</th>\n",
       "    </tr>\n",
       "  </thead>\n",
       "  <tbody>\n",
       "    <tr>\n",
       "      <th>0</th>\n",
       "      <td>16.0</td>\n",
       "      <td>COSTI Reception Centre</td>\n",
       "      <td>16</td>\n",
       "      <td>2017-01-01T00:00:00</td>\n",
       "      <td>COSTI Immigrant Services</td>\n",
       "      <td>COSTI Reception Ctr CITY Program</td>\n",
       "      <td>Co-ed</td>\n",
       "      <td>100 Lippincott Street</td>\n",
       "      <td>Toronto</td>\n",
       "      <td>COSTI Reception Centre</td>\n",
       "      <td>M5S 2P1</td>\n",
       "      <td>ON</td>\n",
       "    </tr>\n",
       "    <tr>\n",
       "      <th>1</th>\n",
       "      <td>17.0</td>\n",
       "      <td>Christie Ossington Men's Hostel</td>\n",
       "      <td>13</td>\n",
       "      <td>2017-01-01T00:00:00</td>\n",
       "      <td>Christie Ossington Neighbourhood Centre</td>\n",
       "      <td>Christie Ossington Extreme Weather Program</td>\n",
       "      <td>Men</td>\n",
       "      <td>973 Lansdowne Avenue</td>\n",
       "      <td>Toronto</td>\n",
       "      <td>Christie Ossington Men's Hostel</td>\n",
       "      <td>M6H 3Z5</td>\n",
       "      <td>ON</td>\n",
       "    </tr>\n",
       "    <tr>\n",
       "      <th>2</th>\n",
       "      <td>63.0</td>\n",
       "      <td>Christie Ossington Men's Hostel</td>\n",
       "      <td>63</td>\n",
       "      <td>2017-01-01T00:00:00</td>\n",
       "      <td>Christie Ossington Neighbourhood Centre</td>\n",
       "      <td>Christie Ossington Men's Hostel</td>\n",
       "      <td>Men</td>\n",
       "      <td>973 Lansdowne Avenue</td>\n",
       "      <td>Toronto</td>\n",
       "      <td>Christie Ossington Men's Hostel</td>\n",
       "      <td>M6H 3Z5</td>\n",
       "      <td>ON</td>\n",
       "    </tr>\n",
       "    <tr>\n",
       "      <th>3</th>\n",
       "      <td>70.0</td>\n",
       "      <td>Christie Refugee Welcome Centre</td>\n",
       "      <td>66</td>\n",
       "      <td>2017-01-01T00:00:00</td>\n",
       "      <td>Christie Refugee Welcome Centre, Inc.</td>\n",
       "      <td>Christie Refugee Welcome Ctr - Settlement and ...</td>\n",
       "      <td>Families</td>\n",
       "      <td>43 Christie Street</td>\n",
       "      <td>Toronto</td>\n",
       "      <td>Christie Refugee Welcome Centre</td>\n",
       "      <td>M6G 3B1</td>\n",
       "      <td>ON</td>\n",
       "    </tr>\n",
       "    <tr>\n",
       "      <th>4</th>\n",
       "      <td>60.0</td>\n",
       "      <td>Birchmount Res 1673 Kingston Rd</td>\n",
       "      <td>58</td>\n",
       "      <td>2017-01-01T00:00:00</td>\n",
       "      <td>City of Toronto</td>\n",
       "      <td>Birchmount Residence</td>\n",
       "      <td>Men</td>\n",
       "      <td>1673 Kingston Road</td>\n",
       "      <td>Toronto</td>\n",
       "      <td>Birchmount Residence</td>\n",
       "      <td>NaN</td>\n",
       "      <td>ON</td>\n",
       "    </tr>\n",
       "  </tbody>\n",
       "</table>\n",
       "</div>"
      ],
      "text/plain": [
       "   CAPACITY                    FACILITY_NAME  OCCUPANCY       OCCUPANCY_DATE  \\\n",
       "0      16.0           COSTI Reception Centre         16  2017-01-01T00:00:00   \n",
       "1      17.0  Christie Ossington Men's Hostel         13  2017-01-01T00:00:00   \n",
       "2      63.0  Christie Ossington Men's Hostel         63  2017-01-01T00:00:00   \n",
       "3      70.0  Christie Refugee Welcome Centre         66  2017-01-01T00:00:00   \n",
       "4      60.0  Birchmount Res 1673 Kingston Rd         58  2017-01-01T00:00:00   \n",
       "\n",
       "                         ORGANIZATION_NAME  \\\n",
       "0                 COSTI Immigrant Services   \n",
       "1  Christie Ossington Neighbourhood Centre   \n",
       "2  Christie Ossington Neighbourhood Centre   \n",
       "3    Christie Refugee Welcome Centre, Inc.   \n",
       "4                          City of Toronto   \n",
       "\n",
       "                                        PROGRAM_NAME    SECTOR  \\\n",
       "0                   COSTI Reception Ctr CITY Program     Co-ed   \n",
       "1         Christie Ossington Extreme Weather Program       Men   \n",
       "2                    Christie Ossington Men's Hostel       Men   \n",
       "3  Christie Refugee Welcome Ctr - Settlement and ...  Families   \n",
       "4                               Birchmount Residence       Men   \n",
       "\n",
       "         SHELTER_ADDRESS SHELTER_CITY                     SHELTER_NAME  \\\n",
       "0  100 Lippincott Street      Toronto           COSTI Reception Centre   \n",
       "1   973 Lansdowne Avenue      Toronto  Christie Ossington Men's Hostel   \n",
       "2   973 Lansdowne Avenue      Toronto  Christie Ossington Men's Hostel   \n",
       "3     43 Christie Street      Toronto  Christie Refugee Welcome Centre   \n",
       "4     1673 Kingston Road      Toronto             Birchmount Residence   \n",
       "\n",
       "  SHELTER_POSTAL_CODE SHELTER_PROVINCE  \n",
       "0             M5S 2P1               ON  \n",
       "1             M6H 3Z5               ON  \n",
       "2             M6H 3Z5               ON  \n",
       "3             M6G 3B1               ON  \n",
       "4                 NaN               ON  "
      ]
     },
     "execution_count": 49,
     "metadata": {},
     "output_type": "execute_result"
    }
   ],
   "source": [
    "df.head()"
   ]
  },
  {
   "cell_type": "code",
   "execution_count": 6,
   "metadata": {},
   "outputs": [
    {
     "data": {
      "text/plain": [
       "145"
      ]
     },
     "execution_count": 6,
     "metadata": {},
     "output_type": "execute_result"
    }
   ],
   "source": [
    "len(df.PROGRAM_NAME.unique())"
   ]
  },
  {
   "cell_type": "code",
   "execution_count": 54,
   "metadata": {},
   "outputs": [
    {
     "data": {
      "text/plain": [
       "array(['COSTI Reception Ctr CITY Program'], dtype=object)"
      ]
     },
     "execution_count": 54,
     "metadata": {},
     "output_type": "execute_result"
    }
   ],
   "source": [
    "df[df.FACILITY_NAME == 'COSTI Reception Centre'].PROGRAM_NAME.unique()"
   ]
  },
  {
   "cell_type": "code",
   "execution_count": 9,
   "metadata": {},
   "outputs": [
    {
     "data": {
      "text/plain": [
       "{\"Christie Ossington Men's Hostel\": array(['Christie Ossington Extreme Weather Program',\n",
       "        \"Christie Ossington Men's Hostel\"], dtype=object),\n",
       " 'Birkdale Residence Motel (Fam)': array(['Birkdale Residence  - Toronto Plaza Hotel Program',\n",
       "        'Birkdale Residence  - Toronto Plaza Hotel Program (Refugees)',\n",
       "        'Birkdale Residence - Toronto Plaza Hotel Program (Non Refugees)'],\n",
       "       dtype=object),\n",
       " 'Fort York Res 38 Bathurst St.': array(['Fort York Extreme Weather Program',\n",
       "        'Fort York Residence Bedded Program',\n",
       "        'Fort York SRO Units Program'], dtype=object),\n",
       " 'Seaton House - 339 George Street': array([\"O'Neill Housing First-1st Floor\",\n",
       "        \"O'Neill Housing First-2nd Floor\",\n",
       "        'Seaton House - Annex/Infirmary Program',\n",
       "        'Seaton House - Hostel Program',\n",
       "        'Seaton House - Hostels Extreme Weather Program',\n",
       "        'Seaton House - Long Term Program',\n",
       "        'Seaton House - Extended Hostel Program',\n",
       "        \"Seaton House - O'Neill Extreme Weather Program\"], dtype=object),\n",
       " \"Womens' Res - 674 Dundas St. W\": array([\"Women's Residence Extreme Weather Program\",\n",
       "        \"Womens' Residence - Main Program\"], dtype=object),\n",
       " 'Covenant House-20 Gerrard St. E.': array(['Covenant House -  Transitional Safe Beds for women',\n",
       "        'Covenant House Residence'], dtype=object),\n",
       " 'Dixon Hall - Heyworth House': array(['Dixon Hall - Extreme Weather Program',\n",
       "        'Dixon Hall - Heyworth House'], dtype=object),\n",
       " \"Eva's Satellite\": array([\"Eva's Satellite\", \"Eva's Satellite Extreme Weather Program\"],\n",
       "       dtype=object),\n",
       " \"FV Women's Hostel 86 Lombard\": array([\"Fred Victor Women's Extreme Weather Program\",\n",
       "        \"Fred Victor Women's Hostel Program\"], dtype=object),\n",
       " 'Fred Victor BUS - 1161 Caledonia': array(['Fred Victor - Bethlehem United Extreme Weather Program',\n",
       "        'Fred Victor Bethlehem United Program',\n",
       "        'Fred Victor Bethlehem United - Emergency Bed Program'],\n",
       "       dtype=object),\n",
       " 'Good Shepherd Centre': array(['Good Shepherd - Emergency/Resettlement',\n",
       "        'Good Shepherd Centre - D.A.R.E.'], dtype=object),\n",
       " 'HFS - Strachan House': array(['Homes First Society - Flex Program',\n",
       "        'Homes First Society - Strachan House'], dtype=object),\n",
       " 'Second Base Youth Shelter': array(['[Closed]Second Base - Extreme Weather Program',\n",
       "        '[Closed]Second Base Bedded Program'], dtype=object),\n",
       " \"SVDP - Mary's Home\": array([\"SVDP - Mary's Home Extreme Weather Program\",\n",
       "        \"St.Vincent De Paul - Mary's Home - Emergency Shelter\",\n",
       "        \"St.Vincent De Paul - Mary's Home - Extreme Weather Beds\"],\n",
       "       dtype=object),\n",
       " \"St.Simon's 525 Bloor Street East\": array([\"St. Simon's Extreme Weather Program\", \"St. Simon's Shelter\",\n",
       "        \"St. Simon's Shelter - Temporary Program\"], dtype=object),\n",
       " 'Street Haven - 87 Pembroke St': array(['Street Haven - Emergency Hostel',\n",
       "        'Street Haven: Extreme Weather Program'], dtype=object),\n",
       " 'S.A. Evangeline Residence': array(['S.A. Evangeline - Emergency Weather',\n",
       "        \"S.A. Evangeline Residence - Women's Ministry\"], dtype=object),\n",
       " 'Florence Booth - 723 Queen St. W': array(['Salvation Army - Florence Booth Extreme Weather Program',\n",
       "        'Salvation Army - Florence Booth Womens Ministry'], dtype=object),\n",
       " 'S.A. Gateway - 107 Jarvis Street': array(['Salvation Army - Gateway - Extreme Weather Beds',\n",
       "        \"Salvation Army - Gateway - Men's Hostel\"], dtype=object),\n",
       " 'S.A. Hope - 167 College St': array(['S.A. Hope - Extreme Weather Program',\n",
       "        'Salvation Army Hope - Main Shelter Beds',\n",
       "        'S.A. HOPE Shelter - Overflow Bed Program'], dtype=object),\n",
       " 'S.A. Maxwell Meighen Centre': array(['S.A. Maxwell Meighen Transition to Housing',\n",
       "        'Salvation Army - Maxwell Meighen - Extreme Weather Program',\n",
       "        'Salvation Army - Maxwell Meighen Emergency Bed Program',\n",
       "        'Salvation Army - Maxwell Meighen Primary Support Unit',\n",
       "        'Salvation Army - Maxwell Meighen Turning Point Program'],\n",
       "       dtype=object),\n",
       " 'Scott Mission - 502 Spadina Ave': array(['Scott Mission - Extreme Weather Program',\n",
       "        \"Scott Mission - Men's Ministry Overnight Program\"], dtype=object),\n",
       " 'U. Settlement OOTC-23 Grange Rd': array(['University Settlement - Out of the Cold',\n",
       "        'University Settlement: Extreme Weather Program',\n",
       "        'CLOSED University Settlement - Out of the Cold'], dtype=object),\n",
       " 'Touchstone Youth Centre': array(['Touchstone Youth Centre - Residential Program',\n",
       "        'Touchstone Youth Centre Extreme Weather Program'], dtype=object),\n",
       " 'YouthLink - 747 Warden Ave': array(['YouthLink Emergency Program', 'YouthLink Transitional Program'],\n",
       "       dtype=object)}"
      ]
     },
     "execution_count": 9,
     "metadata": {},
     "output_type": "execute_result"
    }
   ],
   "source": [
    "# Checking facilities with multiple programs\n",
    "facility_names = df.FACILITY_NAME.unique()\n",
    "facility_programs = {}\n",
    "for facility_name in facility_names:\n",
    "    program_count = len(df[df.FACILITY_NAME == facility_name].PROGRAM_NAME.unique())\n",
    "    if program_count > 1:\n",
    "        facility_programs[facility_name] = df[df.FACILITY_NAME == facility_name].PROGRAM_NAME.unique()\n",
    "        \n",
    "facility_programs"
   ]
  },
  {
   "cell_type": "code",
   "execution_count": 8,
   "metadata": {},
   "outputs": [
    {
     "data": {
      "text/plain": [
       "{'Streets to Homes Bedded Program': array(['S2H Assessment and Referral Ctre', '129 Peter St'], dtype=object),\n",
       " 'Fred Victor Transition to Housing:  Bedded Program': array(['Fred Victor 389 Church Street', 'Fred Victor 512 Jarvis St.'],\n",
       "       dtype=object),\n",
       " 'COSTI - Quality Suites Singles Refugee Program': array(['COSTI Quality Suite (Singles)', 'COSTI Quality Suites (Singles)'],\n",
       "       dtype=object),\n",
       " 'COSTI - Quality Suites Family Program': array(['COSTI Quality Suites (Fam)', 'COSTI Quality Suites (Families)'],\n",
       "       dtype=object)}"
      ]
     },
     "execution_count": 8,
     "metadata": {},
     "output_type": "execute_result"
    }
   ],
   "source": [
    "# Checking programs with multiple facilities\n",
    "program_names = df.PROGRAM_NAME.unique()\n",
    "program_facilities = {}\n",
    "for program_name in program_names:\n",
    "    unique_facility_names = df[df.PROGRAM_NAME == program_name].FACILITY_NAME.unique()\n",
    "    facility_count = len(unique_facility_names)\n",
    "    if facility_count > 1:\n",
    "        program_facilities[program_name] = unique_facility_names\n",
    "        \n",
    "program_facilities"
   ]
  }
 ],
 "metadata": {
  "kernelspec": {
   "display_name": "Python 3",
   "language": "python",
   "name": "python3"
  },
  "language_info": {
   "codemirror_mode": {
    "name": "ipython",
    "version": 3
   },
   "file_extension": ".py",
   "mimetype": "text/x-python",
   "name": "python",
   "nbconvert_exporter": "python",
   "pygments_lexer": "ipython3",
   "version": "3.7.3"
  }
 },
 "nbformat": 4,
 "nbformat_minor": 2
}
