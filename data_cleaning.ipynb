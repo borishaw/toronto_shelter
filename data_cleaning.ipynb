{
 "cells": [
  {
   "cell_type": "markdown",
   "metadata": {},
   "source": [
    "# Capstone - Toronto Shelter Occupancy Prediction Data Cleaning & Feature Engineering"
   ]
  },
  {
   "cell_type": "markdown",
   "metadata": {},
   "source": [
    "---"
   ]
  },
  {
   "cell_type": "markdown",
   "metadata": {},
   "source": [
    "## Import Modules"
   ]
  },
  {
   "cell_type": "code",
   "execution_count": 1,
   "metadata": {},
   "outputs": [],
   "source": [
    "import pandas as pd\n",
    "import numpy as np\n",
    "import warnings\n",
    "import datetime\n",
    "import requests\n",
    "import json\n",
    "import dateutil.parser\n",
    "import matplotlib.pyplot as plt\n",
    "from astral import Astral\n",
    "\n",
    "# Ignore warnings\n",
    "warnings.filterwarnings(\"ignore\")"
   ]
  },
  {
   "cell_type": "markdown",
   "metadata": {},
   "source": [
    "---"
   ]
  },
  {
   "cell_type": "markdown",
   "metadata": {},
   "source": [
    "## Data Clearning & Feature Engineering"
   ]
  },
  {
   "cell_type": "markdown",
   "metadata": {},
   "source": [
    "### Shelter Occupancy Data"
   ]
  },
  {
   "cell_type": "code",
   "execution_count": 2,
   "metadata": {},
   "outputs": [],
   "source": [
    "# Getting occupancy data\n",
    "df_17 = pd.read_csv('data/daily-shelter-occupancy-2017-csv.csv')\n",
    "df_18 = pd.read_csv('data/daily-shelter-occupancy-2018-csv.csv')\n",
    "df_19 = pd.read_csv('data/daily-shelter-occupancy-2019-csv.csv')\n",
    "df = pd.concat([df_17, df_18, df_19])"
   ]
  },
  {
   "cell_type": "code",
   "execution_count": 3,
   "metadata": {},
   "outputs": [],
   "source": [
    "# Dropping unuseful columns\n",
    "df.drop(['_id', 'id'], axis=1, inplace=True)"
   ]
  },
  {
   "cell_type": "code",
   "execution_count": 4,
   "metadata": {},
   "outputs": [],
   "source": [
    "# Checking if there are any rows with null or zero value in CAPACITY but non-zero value in OCCUPANCY\n",
    "for program in df[((df.CAPACITY.isna()) | (df.CAPACITY == 0)) & (df.OCCUPANCY != 0)]['PROGRAM_NAME'].value_counts().index:\n",
    "    # Assuming the max OCCUPANCY as the CAPACITY\n",
    "    df.loc[df.PROGRAM_NAME == program, 'CAPACITY'] = df[df.PROGRAM_NAME == program].OCCUPANCY.max()"
   ]
  },
  {
   "cell_type": "code",
   "execution_count": 5,
   "metadata": {},
   "outputs": [],
   "source": [
    "# Checking if there are any rows with null or zero values in OCCUPANCY, and drop these rows\n",
    "df.drop(df[(df.OCCUPANCY == 0) | (df.OCCUPANCY.isna())].index, inplace=True)"
   ]
  },
  {
   "cell_type": "code",
   "execution_count": 6,
   "metadata": {},
   "outputs": [],
   "source": [
    "# Calculating occupancy rate\n",
    "df['OCCUPANCY_RATE'] = round(df.OCCUPANCY / df.CAPACITY, 4)\n",
    "\n",
    "# Changing data type of CAPACITY column\n",
    "df.CAPACITY = df.CAPACITY.astype(int)\n",
    "\n",
    "# Changing data type of OCCUPANCY_DATE\n",
    "df.OCCUPANCY_DATE = pd.to_datetime(df.OCCUPANCY_DATE)"
   ]
  },
  {
   "cell_type": "code",
   "execution_count": 7,
   "metadata": {},
   "outputs": [],
   "source": [
    "# Getting addresses with empty postal codes\n",
    "missing_postal_code_addresses = df[df.SHELTER_POSTAL_CODE.isna()].SHELTER_ADDRESS.value_counts().index\n",
    "\n",
    "# Getting correct postal codes from Google Maps\n",
    "postal_dict = {\n",
    "    '38 Bathrust St': 'M5V 3W3',\n",
    "    '67 Adelaide Street East' : 'M5C 1K6', \n",
    "    '1673 Kingston Road' : 'M1N 1S6',\n",
    "    '1651 Sheppard Ave West' : 'M3M 2X4', \n",
    "    '129 Peter St' : 'M5V 1X1'\n",
    "}\n",
    "\n",
    "# Filling missing postal codes\n",
    "for address in missing_postal_code_addresses:\n",
    "    df.loc[df.SHELTER_ADDRESS == address, 'SHELTER_POSTAL_CODE'] = postal_dict[address]"
   ]
  },
  {
   "cell_type": "code",
   "execution_count": 8,
   "metadata": {},
   "outputs": [],
   "source": [
    "# Cleaning postal code format\n",
    "\n",
    "# Remove non-alphanumeric characters\n",
    "df.SHELTER_POSTAL_CODE = df.SHELTER_POSTAL_CODE.replace('[^a-zA-Z0-9]', '' ,regex=True)\n",
    "\n",
    "# Separate two components with space\n",
    "df.SHELTER_POSTAL_CODE = df.SHELTER_POSTAL_CODE.apply(lambda s: s[:3] + ' ' + s[3:])\n",
    "\n",
    "# Cleaning wrong postal code characters (M2N OE3)\n",
    "df.loc[df.SHELTER_POSTAL_CODE == 'M2N OE3', 'SHELTER_POSTAL_CODE'] = 'M2N 0E3'"
   ]
  },
  {
   "cell_type": "markdown",
   "metadata": {},
   "source": [
    "*Since this project focuses on the shelter occupancy data related homelessness, a judgement call is needed to exclude programs related to new immigrant/refugee settlement.* "
   ]
  },
  {
   "cell_type": "code",
   "execution_count": 9,
   "metadata": {},
   "outputs": [],
   "source": [
    "# df[df.PROGRAM_NAME.str.contains('Refugee')].PROGRAM_NAME.unique()\n",
    "# df[df.PROGRAM_NAME.str.contains('Hotel')].PROGRAM_NAME.unique()\n",
    "# df[df.PROGRAM_NAME.str.contains('Welcome')].PROGRAM_NAME.unique()\n",
    "# df[df.PROGRAM_NAME.str.contains('Settlement')].PROGRAM_NAME.unique()\n",
    "\n",
    "# df[df.FACILITY_NAME.str.contains('Refugee')].FACILITY_NAME.unique()\n",
    "# df[df.FACILITY_NAME.str.contains('Hotel')].FACILITY_NAME.unique()\n",
    "# df[df.FACILITY_NAME.str.contains('Welcome')].FACILITY_NAME.unique()\n",
    "# df[df.FACILITY_NAME.str.contains('Settlement')].FACILITY_NAME.unique()\n",
    "\n",
    "# df.ORGANIZATION_NAME.unique()"
   ]
  },
  {
   "cell_type": "code",
   "execution_count": 10,
   "metadata": {},
   "outputs": [],
   "source": [
    "# Deciding programs and facilities to be excluded from the data\n",
    "program_names_to_exclude = [\n",
    "    'COSTI Reception Ctr CITY Program'\n",
    "    'Christie Refugee Welcome Ctr - Settlement and Support',\n",
    "    'Birkdale Residence  - Single Male Refugee Program',\n",
    "    'COSTI - Quality Suites Singles Refugee Program',\n",
    "    'Christe Refugee Welcome Centre - Singles',\n",
    "    'Birkdale Residence  - Toronto Plaza Hotel Program (Refugees)',\n",
    "    'COSTI Edward Hotel Refugee Family',\n",
    "    'COSTI Edward Hotel Refugee Singles',\n",
    "    'Sojourn House - Refugee Family Hotel Program-Grange',\n",
    "    'COSTI - Toronto Plaza Hotel (Refugees)'\n",
    "]\n",
    "\n",
    "facility_names_to_exclude = [\n",
    "    'Christie Refugee Welcome Centre',\n",
    "    'HFS - Refugee Response Centre -'\n",
    "]\n",
    "\n",
    "orgnization_names_to_exclude = [\n",
    "    'COSTI Immigrant Services',\n",
    "    'Christie Refugee Welcome Centre, Inc.'\n",
    "]\n",
    "\n",
    "# Excluding irrelavent data\n",
    "df = df.drop(df[df.PROGRAM_NAME.isin(program_names_to_exclude)].index)\n",
    "df = df.drop(df[df.FACILITY_NAME.isin(facility_names_to_exclude)].index)\n",
    "df = df.drop(df[df.ORGANIZATION_NAME.isin(orgnization_names_to_exclude)].index)"
   ]
  },
  {
   "cell_type": "code",
   "execution_count": 11,
   "metadata": {},
   "outputs": [],
   "source": [
    "# Writing shelter occupancy data to a csv file\n",
    "df.to_csv('data/shelter_occupancy_cleaned.csv')"
   ]
  },
  {
   "cell_type": "markdown",
   "metadata": {},
   "source": [
    "---"
   ]
  },
  {
   "cell_type": "markdown",
   "metadata": {},
   "source": [
    "### Weather Data"
   ]
  },
  {
   "cell_type": "code",
   "execution_count": 12,
   "metadata": {},
   "outputs": [],
   "source": [
    "# Gettting weather data\n",
    "weather_2017_df = pd.read_csv('data/2017-toronto-weather.csv')\n",
    "weather_2018_df = pd.read_csv('data/2018-toronto-weather.csv')\n",
    "weather_2019_df = pd.read_csv('data/2019-toronto-weather.csv')\n",
    "weather_df = pd.concat([weather_2017_df, weather_2018_df, weather_2019_df])"
   ]
  },
  {
   "cell_type": "code",
   "execution_count": 13,
   "metadata": {},
   "outputs": [],
   "source": [
    "# Cleaning weather data, dropping unnecessary columns\n",
    "weather_df = weather_df.drop(['Longitude (x)', 'Latitude (y)', 'Station Name', 'Climate ID', 'Data Quality',\n",
    "       'Max Temp Flag', 'Min Temp Flag', 'Mean Temp Flag', 'Heat Deg Days Flag', 'Cool Deg Days Flag',\n",
    "       'Total Rain Flag', 'Total Snow Flag', 'Total Precip Flag', 'Snow on Grnd (cm)',\n",
    "       'Snow on Grnd Flag', 'Dir of Max Gust (10s deg)', 'Dir of Max Gust Flag', 'Spd of Max Gust (km/h)',\n",
    "       'Spd of Max Gust Flag','Total Rain (mm)', 'Total Snow (cm)', \n",
    "        'Heat Deg Days (°C)', 'Cool Deg Days (°C)'], axis=1)"
   ]
  },
  {
   "cell_type": "code",
   "execution_count": 14,
   "metadata": {},
   "outputs": [],
   "source": [
    "# Calculating the lengths of daylight each day in hours\n",
    "\n",
    "# Coordinates of Toronto\n",
    "latitude = 43.7001100\n",
    "longitude = -79.4163000\n",
    "\n",
    "# Function to calculate daylight hours in Toronto on a specific day\n",
    "def get_daylight_hours(year, month, day):\n",
    "    astral = Astral()\n",
    "    sr, ss = astral.daylight_utc(datetime.date(year,month,day), latitude, longitude)\n",
    "    return (ss - sr).seconds / 3600\n",
    "\n",
    "weather_df['Daylight_Hours'] = weather_df.apply(lambda df : get_daylight_hours(df.Year, df.Month, df.Day), axis=1)"
   ]
  },
  {
   "cell_type": "code",
   "execution_count": 15,
   "metadata": {},
   "outputs": [],
   "source": [
    "# Getting the day of week of each day\n",
    "weather_df['Week_Day_Int'] = weather_df.apply(lambda df : datetime.date(df.Year, df.Month, df.Day).weekday(), axis=1)"
   ]
  },
  {
   "cell_type": "code",
   "execution_count": 16,
   "metadata": {},
   "outputs": [],
   "source": [
    "# Converting days of week to literal format\n",
    "def get_week_day(week_day_int):\n",
    "    week_day_dict = ['MON', 'TUE', 'WED', 'THU', 'FRI', 'SAT', 'SUN']\n",
    "    return week_day_dict[week_day_int]\n",
    "\n",
    "weather_df['Week_Day'] = weather_df.apply(lambda df: get_week_day(df.Week_Day_Int), axis=1)"
   ]
  },
  {
   "cell_type": "code",
   "execution_count": 17,
   "metadata": {},
   "outputs": [],
   "source": [
    "# Convert date in weather data frame to datetime\n",
    "weather_df['Date/Time'] = pd.to_datetime(weather_df['Date/Time'])"
   ]
  },
  {
   "cell_type": "code",
   "execution_count": 18,
   "metadata": {},
   "outputs": [],
   "source": [
    "# Dropping unnecessary columns after daylight hours calculations\n",
    "weather_df = weather_df.drop(['Year', 'Month', 'Day', 'Max Temp (°C)', 'Min Temp (°C)'], axis=1)"
   ]
  },
  {
   "cell_type": "code",
   "execution_count": 19,
   "metadata": {},
   "outputs": [],
   "source": [
    "# Changing date time column name to match shelter occupancy data column name before merging\n",
    "weather_df = weather_df.rename(columns={'Date/Time': 'OCCUPANCY_DATE'})"
   ]
  },
  {
   "cell_type": "code",
   "execution_count": 20,
   "metadata": {},
   "outputs": [],
   "source": [
    "# Writing weather data to a csv file\n",
    "weather_df.to_csv('data/toronto_weather.csv')"
   ]
  },
  {
   "cell_type": "markdown",
   "metadata": {},
   "source": [
    "---"
   ]
  }
 ],
 "metadata": {
  "kernelspec": {
   "display_name": "Python 3",
   "language": "python",
   "name": "python3"
  },
  "language_info": {
   "codemirror_mode": {
    "name": "ipython",
    "version": 3
   },
   "file_extension": ".py",
   "mimetype": "text/x-python",
   "name": "python",
   "nbconvert_exporter": "python",
   "pygments_lexer": "ipython3",
   "version": "3.7.3"
  }
 },
 "nbformat": 4,
 "nbformat_minor": 2
}
