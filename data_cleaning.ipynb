{
 "cells": [
  {
   "cell_type": "markdown",
   "metadata": {},
   "source": [
    "# Capstone - Toronto Shelter Occupancy Prediction Data Cleaning & Feature Engineering"
   ]
  },
  {
   "cell_type": "markdown",
   "metadata": {},
   "source": [
    "---"
   ]
  },
  {
   "cell_type": "markdown",
   "metadata": {},
   "source": [
    "## Import Modules"
   ]
  },
  {
   "cell_type": "code",
   "execution_count": 1,
   "metadata": {},
   "outputs": [],
   "source": [
    "import pandas as pd\n",
    "import numpy as np\n",
    "import warnings\n",
    "import datetime\n",
    "import requests\n",
    "import json\n",
    "import dateutil.parser\n",
    "import matplotlib.pyplot as plt\n",
    "from astral import Astral\n",
    "\n",
    "# Ignore warnings\n",
    "warnings.filterwarnings(\"ignore\")"
   ]
  },
  {
   "cell_type": "markdown",
   "metadata": {},
   "source": [
    "---"
   ]
  },
  {
   "cell_type": "markdown",
   "metadata": {},
   "source": [
    "## Data Clearning & Feature Engineering"
   ]
  },
  {
   "cell_type": "markdown",
   "metadata": {},
   "source": [
    "### Shelter Occupancy Data"
   ]
  },
  {
   "cell_type": "code",
   "execution_count": 2,
   "metadata": {},
   "outputs": [],
   "source": [
    "# Getting occupancy data\n",
    "df_17 = pd.read_csv('data/daily-shelter-occupancy-2017-csv.csv')\n",
    "df_18 = pd.read_csv('data/daily-shelter-occupancy-2018-csv.csv')\n",
    "df_19 = pd.read_csv('data/daily-shelter-occupancy-2019-csv.csv')\n",
    "df = pd.concat([df_17, df_18, df_19])"
   ]
  },
  {
   "cell_type": "code",
   "execution_count": 3,
   "metadata": {},
   "outputs": [],
   "source": [
    "# Dropping unuseful columns\n",
    "df.drop(['_id', 'id'], axis=1, inplace=True)"
   ]
  },
  {
   "cell_type": "code",
   "execution_count": 4,
   "metadata": {},
   "outputs": [],
   "source": [
    "# Checking if there are any rows with null or zero value in CAPACITY but non-zero value in OCCUPANCY\n",
    "for program in df[((df.CAPACITY.isna()) | (df.CAPACITY == 0)) & (df.OCCUPANCY != 0)]['PROGRAM_NAME'].value_counts().index:\n",
    "    # Assuming the max OCCUPANCY as the CAPACITY\n",
    "    df.loc[df.PROGRAM_NAME == program, 'CAPACITY'] = df[df.PROGRAM_NAME == program].OCCUPANCY.max()"
   ]
  },
  {
   "cell_type": "code",
   "execution_count": 5,
   "metadata": {},
   "outputs": [],
   "source": [
    "# Checking if there are any rows with null or zero values in OCCUPANCY, and drop these rows\n",
    "df.drop(df[(df.OCCUPANCY == 0) | (df.OCCUPANCY.isna())].index, inplace=True)"
   ]
  },
  {
   "cell_type": "code",
   "execution_count": 6,
   "metadata": {},
   "outputs": [],
   "source": [
    "# Calculating occupancy rate\n",
    "df['OCCUPANCY_RATE'] = round(df.OCCUPANCY / df.CAPACITY, 4)\n",
    "\n",
    "# Changing data type of CAPACITY column\n",
    "df.CAPACITY = df.CAPACITY.astype(int)\n",
    "\n",
    "# Changing data type of OCCUPANCY_DATE\n",
    "df.OCCUPANCY_DATE = pd.to_datetime(df.OCCUPANCY_DATE)"
   ]
  },
  {
   "cell_type": "code",
   "execution_count": 7,
   "metadata": {},
   "outputs": [],
   "source": [
    "# Getting addresses with empty postal codes\n",
    "missing_postal_code_addresses = df[df.SHELTER_POSTAL_CODE.isna()].SHELTER_ADDRESS.value_counts().index\n",
    "\n",
    "# Getting correct postal codes from Google Maps\n",
    "postal_dict = {\n",
    "    '38 Bathrust St': 'M5V 3W3',\n",
    "    '67 Adelaide Street East' : 'M5C 1K6', \n",
    "    '1673 Kingston Road' : 'M1N 1S6',\n",
    "    '1651 Sheppard Ave West' : 'M3M 2X4', \n",
    "    '129 Peter St' : 'M5V 1X1'\n",
    "}\n",
    "\n",
    "# Filling missing postal codes\n",
    "for address in missing_postal_code_addresses:\n",
    "    df.loc[df.SHELTER_ADDRESS == address, 'SHELTER_POSTAL_CODE'] = postal_dict[address]"
   ]
  },
  {
   "cell_type": "code",
   "execution_count": 8,
   "metadata": {},
   "outputs": [],
   "source": [
    "# Cleaning postal code format\n",
    "\n",
    "# Remove non-alphanumeric characters\n",
    "df.SHELTER_POSTAL_CODE = df.SHELTER_POSTAL_CODE.replace('[^a-zA-Z0-9]', '' ,regex=True)\n",
    "\n",
    "# Separate two components with space\n",
    "df.SHELTER_POSTAL_CODE = df.SHELTER_POSTAL_CODE.apply(lambda s: s[:3] + ' ' + s[3:])\n",
    "\n",
    "# Cleaning wrong postal code characters (M2N OE3)\n",
    "df.loc[df.SHELTER_POSTAL_CODE == 'M2N OE3', 'SHELTER_POSTAL_CODE'] = 'M2N 0E3'"
   ]
  },
  {
   "cell_type": "markdown",
   "metadata": {},
   "source": [
    "*Since this project focuses on the shelter occupancy data related homelessness, a judgement call is needed to exclude programs related to new immigrant/refugee settlement.* "
   ]
  },
  {
   "cell_type": "code",
   "execution_count": 9,
   "metadata": {},
   "outputs": [],
   "source": [
    "# df[df.PROGRAM_NAME.str.contains('Refugee')].PROGRAM_NAME.unique()\n",
    "# df[df.PROGRAM_NAME.str.contains('Hotel')].PROGRAM_NAME.unique()\n",
    "# df[df.PROGRAM_NAME.str.contains('Welcome')].PROGRAM_NAME.unique()\n",
    "# df[df.PROGRAM_NAME.str.contains('Settlement')].PROGRAM_NAME.unique()\n",
    "\n",
    "# df[df.FACILITY_NAME.str.contains('Refugee')].FACILITY_NAME.unique()\n",
    "# df[df.FACILITY_NAME.str.contains('Hotel')].FACILITY_NAME.unique()\n",
    "# df[df.FACILITY_NAME.str.contains('Welcome')].FACILITY_NAME.unique()\n",
    "# df[df.FACILITY_NAME.str.contains('Settlement')].FACILITY_NAME.unique()\n",
    "\n",
    "# df.ORGANIZATION_NAME.unique()"
   ]
  },
  {
   "cell_type": "code",
   "execution_count": 10,
   "metadata": {},
   "outputs": [],
   "source": [
    "# Deciding programs and facilities to be excluded from the data\n",
    "program_names_to_exclude = [\n",
    "    'COSTI Reception Ctr CITY Program'\n",
    "    'Christie Refugee Welcome Ctr - Settlement and Support',\n",
    "    'Birkdale Residence  - Single Male Refugee Program',\n",
    "    'COSTI - Quality Suites Singles Refugee Program',\n",
    "    'Christe Refugee Welcome Centre - Singles',\n",
    "    'Birkdale Residence  - Toronto Plaza Hotel Program (Refugees)',\n",
    "    'COSTI Edward Hotel Refugee Family',\n",
    "    'COSTI Edward Hotel Refugee Singles',\n",
    "    'Sojourn House - Refugee Family Hotel Program-Grange',\n",
    "    'COSTI - Toronto Plaza Hotel (Refugees)'\n",
    "]\n",
    "\n",
    "facility_names_to_exclude = [\n",
    "    'Christie Refugee Welcome Centre',\n",
    "    'HFS - Refugee Response Centre -'\n",
    "]\n",
    "\n",
    "orgnization_names_to_exclude = [\n",
    "    'COSTI Immigrant Services',\n",
    "    'Christie Refugee Welcome Centre, Inc.'\n",
    "]\n",
    "\n",
    "# Excluding irrelavent data\n",
    "df = df.drop(df[df.PROGRAM_NAME.isin(program_names_to_exclude)].index)\n",
    "df = df.drop(df[df.FACILITY_NAME.isin(facility_names_to_exclude)].index)\n",
    "df = df.drop(df[df.ORGANIZATION_NAME.isin(orgnization_names_to_exclude)].index)"
   ]
  },
  {
   "cell_type": "code",
   "execution_count": 11,
   "metadata": {},
   "outputs": [],
   "source": [
    "# Writing shelter occupancy data to a csv file\n",
    "df.to_csv('data/shelter_occupancy_cleaned.csv')"
   ]
  },
  {
   "cell_type": "markdown",
   "metadata": {},
   "source": [
    "---"
   ]
  },
  {
   "cell_type": "markdown",
   "metadata": {},
   "source": [
    "### Weather Data"
   ]
  },
  {
   "cell_type": "code",
   "execution_count": 12,
   "metadata": {},
   "outputs": [],
   "source": [
    "# Gettting weather data\n",
    "weather_2017_df = pd.read_csv('data/2017-toronto-weather.csv')\n",
    "weather_2018_df = pd.read_csv('data/2018-toronto-weather.csv')\n",
    "weather_2019_df = pd.read_csv('data/2019-toronto-weather.csv')\n",
    "weather_df = pd.concat([weather_2017_df, weather_2018_df, weather_2019_df])"
   ]
  },
  {
   "cell_type": "code",
   "execution_count": 13,
   "metadata": {},
   "outputs": [],
   "source": [
    "# Cleaning weather data, dropping unnecessary columns\n",
    "weather_df = weather_df.drop(['Longitude (x)', 'Latitude (y)', 'Station Name', 'Climate ID', 'Data Quality',\n",
    "       'Max Temp Flag', 'Min Temp Flag', 'Mean Temp Flag', 'Heat Deg Days Flag', 'Cool Deg Days Flag',\n",
    "       'Total Rain Flag', 'Total Snow Flag', 'Total Precip Flag', 'Snow on Grnd (cm)',\n",
    "       'Snow on Grnd Flag', 'Dir of Max Gust (10s deg)', 'Dir of Max Gust Flag', 'Spd of Max Gust (km/h)',\n",
    "       'Spd of Max Gust Flag','Total Rain (mm)', 'Total Snow (cm)', \n",
    "        'Heat Deg Days (°C)', 'Cool Deg Days (°C)'], axis=1)"
   ]
  },
  {
   "cell_type": "code",
   "execution_count": 14,
   "metadata": {},
   "outputs": [],
   "source": [
    "# Calculating the lengths of daylight each day in hours\n",
    "\n",
    "# Coordinates of Toronto\n",
    "latitude = 43.7001100\n",
    "longitude = -79.4163000\n",
    "\n",
    "# Function to calculate daylight hours in Toronto on a specific day\n",
    "def get_daylight_hours(year, month, day):\n",
    "    astral = Astral()\n",
    "    sr, ss = astral.daylight_utc(datetime.date(year,month,day), latitude, longitude)\n",
    "    return (ss - sr).seconds / 3600\n",
    "\n",
    "weather_df['Daylight_Hours'] = weather_df.apply(lambda df : get_daylight_hours(df.Year, df.Month, df.Day), axis=1)"
   ]
  },
  {
   "cell_type": "code",
   "execution_count": 15,
   "metadata": {},
   "outputs": [],
   "source": [
    "# Getting the day of week of each day\n",
    "weather_df['Week_Day_Int'] = weather_df.apply(lambda df : datetime.date(df.Year, df.Month, df.Day).weekday(), axis=1)"
   ]
  },
  {
   "cell_type": "code",
   "execution_count": 16,
   "metadata": {},
   "outputs": [],
   "source": [
    "# Converting days of week to literal format\n",
    "def get_week_day(week_day_int):\n",
    "    week_day_dict = ['MON', 'TUE', 'WED', 'THU', 'FRI', 'SAT', 'SUN']\n",
    "    return week_day_dict[week_day_int]\n",
    "\n",
    "weather_df['Week_Day'] = weather_df.apply(lambda df: get_week_day(df.Week_Day_Int), axis=1)"
   ]
  },
  {
   "cell_type": "code",
   "execution_count": 17,
   "metadata": {},
   "outputs": [],
   "source": [
    "# Convert date in weather data frame to datetime\n",
    "weather_df['Date/Time'] = pd.to_datetime(weather_df['Date/Time'])"
   ]
  },
  {
   "cell_type": "code",
   "execution_count": 18,
   "metadata": {},
   "outputs": [],
   "source": [
    "# Dropping unnecessary columns after daylight hours calculations\n",
    "weather_df = weather_df.drop(['Year', 'Month', 'Day', 'Max Temp (°C)', 'Min Temp (°C)'], axis=1)"
   ]
  },
  {
   "cell_type": "code",
   "execution_count": 19,
   "metadata": {},
   "outputs": [],
   "source": [
    "# Changing date time column name to match shelter occupancy data column name before merging\n",
    "weather_df = weather_df.rename(columns={'Date/Time': 'OCCUPANCY_DATE'})"
   ]
  },
  {
   "cell_type": "code",
   "execution_count": 20,
   "metadata": {},
   "outputs": [],
   "source": [
    "# Writing weather data to a csv file\n",
    "weather_df.to_csv('data/toronto_weather.csv')"
   ]
  },
  {
   "cell_type": "markdown",
   "metadata": {},
   "source": [
    "---"
   ]
  },
  {
   "cell_type": "code",
   "execution_count": 21,
   "metadata": {},
   "outputs": [
    {
     "data": {
      "text/html": [
       "<div>\n",
       "<style scoped>\n",
       "    .dataframe tbody tr th:only-of-type {\n",
       "        vertical-align: middle;\n",
       "    }\n",
       "\n",
       "    .dataframe tbody tr th {\n",
       "        vertical-align: top;\n",
       "    }\n",
       "\n",
       "    .dataframe thead th {\n",
       "        text-align: right;\n",
       "    }\n",
       "</style>\n",
       "<table border=\"1\" class=\"dataframe\">\n",
       "  <thead>\n",
       "    <tr style=\"text-align: right;\">\n",
       "      <th></th>\n",
       "      <th>OCCUPANCY_DATE</th>\n",
       "      <th>ORGANIZATION_NAME</th>\n",
       "      <th>SHELTER_NAME</th>\n",
       "      <th>SHELTER_ADDRESS</th>\n",
       "      <th>SHELTER_CITY</th>\n",
       "      <th>SHELTER_PROVINCE</th>\n",
       "      <th>SHELTER_POSTAL_CODE</th>\n",
       "      <th>FACILITY_NAME</th>\n",
       "      <th>PROGRAM_NAME</th>\n",
       "      <th>SECTOR</th>\n",
       "      <th>OCCUPANCY</th>\n",
       "      <th>CAPACITY</th>\n",
       "      <th>OCCUPANCY_RATE</th>\n",
       "    </tr>\n",
       "  </thead>\n",
       "  <tbody>\n",
       "    <tr>\n",
       "      <th>4</th>\n",
       "      <td>2017-01-01</td>\n",
       "      <td>City of Toronto</td>\n",
       "      <td>Birchmount Residence</td>\n",
       "      <td>1673 Kingston Road</td>\n",
       "      <td>Toronto</td>\n",
       "      <td>ON</td>\n",
       "      <td>M1N 1S6</td>\n",
       "      <td>Birchmount Res 1673 Kingston Rd</td>\n",
       "      <td>Birchmount Residence</td>\n",
       "      <td>Men</td>\n",
       "      <td>58</td>\n",
       "      <td>60</td>\n",
       "      <td>0.9667</td>\n",
       "    </tr>\n",
       "    <tr>\n",
       "      <th>5</th>\n",
       "      <td>2017-01-01</td>\n",
       "      <td>City of Toronto</td>\n",
       "      <td>Birkdale Residence</td>\n",
       "      <td>1229 Ellesmere Road</td>\n",
       "      <td>Toronto</td>\n",
       "      <td>ON</td>\n",
       "      <td>M1P 4V8</td>\n",
       "      <td>Birkdale Residence</td>\n",
       "      <td>Birkdale Residence - Bedded Program</td>\n",
       "      <td>Families</td>\n",
       "      <td>168</td>\n",
       "      <td>160</td>\n",
       "      <td>1.0500</td>\n",
       "    </tr>\n",
       "    <tr>\n",
       "      <th>6</th>\n",
       "      <td>2017-01-01</td>\n",
       "      <td>City of Toronto</td>\n",
       "      <td>Birkdale Residence</td>\n",
       "      <td>1229 Ellesmere Road</td>\n",
       "      <td>Toronto</td>\n",
       "      <td>ON</td>\n",
       "      <td>M1P 4V8</td>\n",
       "      <td>Birkdale Residence Motel (Fam)</td>\n",
       "      <td>Birkdale Residence  - Toronto Plaza Hotel Program</td>\n",
       "      <td>Families</td>\n",
       "      <td>119</td>\n",
       "      <td>150</td>\n",
       "      <td>0.7933</td>\n",
       "    </tr>\n",
       "    <tr>\n",
       "      <th>9</th>\n",
       "      <td>2017-01-01</td>\n",
       "      <td>City of Toronto</td>\n",
       "      <td>Family Residence</td>\n",
       "      <td>4222 Kingston Road</td>\n",
       "      <td>Toronto</td>\n",
       "      <td>ON</td>\n",
       "      <td>M1E 2M6</td>\n",
       "      <td>Family Residence - CoEd Building</td>\n",
       "      <td>Family Residence - Co-Ed</td>\n",
       "      <td>Co-ed</td>\n",
       "      <td>14</td>\n",
       "      <td>40</td>\n",
       "      <td>0.3500</td>\n",
       "    </tr>\n",
       "    <tr>\n",
       "      <th>13</th>\n",
       "      <td>2017-01-01</td>\n",
       "      <td>City of Toronto</td>\n",
       "      <td>Family Residence</td>\n",
       "      <td>4222 Kingston Road</td>\n",
       "      <td>Toronto</td>\n",
       "      <td>ON</td>\n",
       "      <td>M1E 2M6</td>\n",
       "      <td>Family Residence - MA Site</td>\n",
       "      <td>Family Residence - MA Site (Internal Referral ...</td>\n",
       "      <td>Families</td>\n",
       "      <td>22</td>\n",
       "      <td>48</td>\n",
       "      <td>0.4583</td>\n",
       "    </tr>\n",
       "  </tbody>\n",
       "</table>\n",
       "</div>"
      ],
      "text/plain": [
       "   OCCUPANCY_DATE ORGANIZATION_NAME          SHELTER_NAME  \\\n",
       "4      2017-01-01   City of Toronto  Birchmount Residence   \n",
       "5      2017-01-01   City of Toronto    Birkdale Residence   \n",
       "6      2017-01-01   City of Toronto    Birkdale Residence   \n",
       "9      2017-01-01   City of Toronto      Family Residence   \n",
       "13     2017-01-01   City of Toronto      Family Residence   \n",
       "\n",
       "        SHELTER_ADDRESS SHELTER_CITY SHELTER_PROVINCE SHELTER_POSTAL_CODE  \\\n",
       "4    1673 Kingston Road      Toronto               ON             M1N 1S6   \n",
       "5   1229 Ellesmere Road      Toronto               ON             M1P 4V8   \n",
       "6   1229 Ellesmere Road      Toronto               ON             M1P 4V8   \n",
       "9    4222 Kingston Road      Toronto               ON             M1E 2M6   \n",
       "13   4222 Kingston Road      Toronto               ON             M1E 2M6   \n",
       "\n",
       "                       FACILITY_NAME  \\\n",
       "4    Birchmount Res 1673 Kingston Rd   \n",
       "5                 Birkdale Residence   \n",
       "6     Birkdale Residence Motel (Fam)   \n",
       "9   Family Residence - CoEd Building   \n",
       "13        Family Residence - MA Site   \n",
       "\n",
       "                                         PROGRAM_NAME    SECTOR  OCCUPANCY  \\\n",
       "4                                Birchmount Residence       Men         58   \n",
       "5                 Birkdale Residence - Bedded Program  Families        168   \n",
       "6   Birkdale Residence  - Toronto Plaza Hotel Program  Families        119   \n",
       "9                            Family Residence - Co-Ed     Co-ed         14   \n",
       "13  Family Residence - MA Site (Internal Referral ...  Families         22   \n",
       "\n",
       "    CAPACITY  OCCUPANCY_RATE  \n",
       "4         60          0.9667  \n",
       "5        160          1.0500  \n",
       "6        150          0.7933  \n",
       "9         40          0.3500  \n",
       "13        48          0.4583  "
      ]
     },
     "execution_count": 21,
     "metadata": {},
     "output_type": "execute_result"
    }
   ],
   "source": [
    "df.head()"
   ]
  }
 ],
 "metadata": {
  "kernelspec": {
   "display_name": "Python 3",
   "language": "python",
   "name": "python3"
  },
  "language_info": {
   "codemirror_mode": {
    "name": "ipython",
    "version": 3
   },
   "file_extension": ".py",
   "mimetype": "text/x-python",
   "name": "python",
   "nbconvert_exporter": "python",
   "pygments_lexer": "ipython3",
   "version": "3.7.3"
  },
  "toc": {
   "base_numbering": 1,
   "nav_menu": {
    "height": "135px",
    "width": "576px"
   },
   "number_sections": true,
   "sideBar": true,
   "skip_h1_title": false,
   "title_cell": "Table of Contents",
   "title_sidebar": "Contents",
   "toc_cell": false,
   "toc_position": {},
   "toc_section_display": true,
   "toc_window_display": false
  }
 },
 "nbformat": 4,
 "nbformat_minor": 2
}
