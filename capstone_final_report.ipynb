{
 "cells": [
  {
   "cell_type": "markdown",
   "metadata": {},
   "source": [
    "# Captone - Toronto Shelter Occupancy Prediction Final Report\n",
    "## Boris Xiao"
   ]
  },
  {
   "cell_type": "markdown",
   "metadata": {},
   "source": [
    "---"
   ]
  },
  {
   "cell_type": "markdown",
   "metadata": {},
   "source": [
    "## Data Sources"
   ]
  },
  {
   "cell_type": "markdown",
   "metadata": {},
   "source": [
    "The data in this project comes from 3 different sources. \n",
    "\n",
    "The primary data is from the **Daily Shelter Occupancy** data from **Open Data Toronto**, a open data portal maitained by the City of Toronto. The data set contains various daily information about a shelter program since 2017-01-01 including the *date*, *address*, *postal code*, *occupancy*, *capacity*, and etc. And the data is updated daily.\n",
    "\n",
    "The first supplementary data is the historical weather data from Environment Canada. It contains corresponding daily weather information taken from the weather station located at *43°40'00.000\" N* and *79°24'00.000\" W* (near University of Toronto St. George Campus). The data set contains various weather indicators including *date*, *daily max*, *daily min*, *precipitation*, and etc.\n",
    "\n",
    "The second supplementary data is from Google Maps Geocoding API. It is used to retrieve geographical information by using the the postal codes of the shelters. The information contains *latitude*, *longitude*, *sublocality (Old Toronto, North York, Scarborough, and etc.)*, and etc."
   ]
  },
  {
   "cell_type": "markdown",
   "metadata": {},
   "source": [
    "---"
   ]
  },
  {
   "cell_type": "markdown",
   "metadata": {},
   "source": [
    "## Objective"
   ]
  },
  {
   "cell_type": "markdown",
   "metadata": {},
   "source": [
    "The objective of this project is to build a prediction model that can predict if a shelter will be full based on the charateristics of a shelter program combining with corresponding weather data."
   ]
  },
  {
   "cell_type": "markdown",
   "metadata": {},
   "source": [
    "---"
   ]
  },
  {
   "cell_type": "markdown",
   "metadata": {},
   "source": [
    "## Process"
   ]
  },
  {
   "cell_type": "markdown",
   "metadata": {},
   "source": [
    "### Data Cleaning"
   ]
  },
  {
   "cell_type": "markdown",
   "metadata": {},
   "source": [
    "As expected, the data did not come in a usable format. Therefore, several cleaning measures were taken to ensure the usability of the data."
   ]
  },
  {
   "cell_type": "markdown",
   "metadata": {},
   "source": [
    "#### Shelter Data"
   ]
  },
  {
   "cell_type": "markdown",
   "metadata": {},
   "source": [
    "<ul>\n",
    "    <li>Dropping \"id\" column, which is unique to a row and does not contribute to the overall data structure.</li>\n",
    "    <li>Filling out capacity values with maximum value of occupancy where capacity is 0 or null and occupancy is not.</li>\n",
    "    <li>Dropping rows with null or zero capacity.</li>\n",
    "    <li>Converting date format from datetime to date. (ex. \"2019-04-20T00:00:00\" -> \"2019-04-20\")</li>\n",
    "    <li>Filling out rows with empty postal codes by searching Google Maps with corresponding addresses.</li>\n",
    "    <li>Excluding shelter programs not related to homelessness. (i.e. programs for new immigrant & refugee settlement).</li>\n",
    "</ul>"
   ]
  },
  {
   "cell_type": "markdown",
   "metadata": {},
   "source": [
    "#### Weather Data"
   ]
  },
  {
   "cell_type": "markdown",
   "metadata": {},
   "source": [
    "<ul>\n",
    "    <li>Keeping only <i>daily mean</i> and <i>precipitation</i></li>\n",
    "    <li>Removing rows where <i>daily mean</i> or <i>precipitation</i> are null.</li>\n",
    "</ul>"
   ]
  },
  {
   "cell_type": "markdown",
   "metadata": {},
   "source": [
    "---"
   ]
  },
  {
   "cell_type": "markdown",
   "metadata": {},
   "source": [
    "### Feature Engineering"
   ]
  },
  {
   "cell_type": "markdown",
   "metadata": {},
   "source": [
    "There are additional features were able to be derived from existing features. "
   ]
  },
  {
   "cell_type": "markdown",
   "metadata": {},
   "source": [
    "<ul>\n",
    "    <li><b>Daylight Length</b>: An external Python package <i>Astral</i> was used to calculate daylight length of every date in the data sets.</li>\n",
    "    <li><b>Day of Week</b>: The day of week is deducted from the date of each row by using the Python built-in datetime package.</li>\n",
    "    <li><b>Occupancy Rate</b>: The occupancy rate of each row can be calculated by dividing the occupancy by capacity.</li>\n",
    "    <li><b>Occupancy Level</b>: This is a categorical value the models try to predict. Its value is set to be 1 if a row with an occupancy rate equals to or above 100%, otherwise it is set to 0.</li>\n",
    "</ul>"
   ]
  },
  {
   "cell_type": "markdown",
   "metadata": {},
   "source": [
    "---"
   ]
  },
  {
   "cell_type": "markdown",
   "metadata": {},
   "source": [
    "### Time Series vs. Non Time Series"
   ]
  },
  {
   "cell_type": "markdown",
   "metadata": {},
   "source": [
    "The original plan was to treat the data set as a time series problem since the data is ordered chronologically. However, after extensive feature engineering, the data set contains enough features (daily temperature, daylight length, etc.) to be treated a non-time series problem. When dealing with relatively large amount of features, it is more efficient to take the non-time series approach since the autoregression itself is not very accurate in predicting long term result let alone combining with other features."
   ]
  },
  {
   "cell_type": "markdown",
   "metadata": {},
   "source": [
    "---"
   ]
  },
  {
   "cell_type": "markdown",
   "metadata": {},
   "source": [
    "### Model Fitting"
   ]
  },
  {
   "cell_type": "markdown",
   "metadata": {},
   "source": [
    "This is a **two-class** (whether a shelter program is full or not) classifying problem. \n",
    "\n",
    "The **y** is the **occupancy level** (either with a value of 1 or 0).\n",
    "The **X** is every numeric feature other than *sector*, *sublocality*, and *week day*. The latter three were turned into dummy features. The train/test data set is randomly split into 70/30.\n",
    "\n",
    "The distribution of **y** values is 61% of 1 and 39% of 0, which means that 61% of the records with full capacity and 39% with non-full.\n",
    "\n",
    "The first model fitting was done on a **Logistic Regression** with default hyperparameter setting. The accuracy of this model is **64%** (which is only fractionally higher than pure chance) and and F1 score of **0.74**. This model is used as a baseline for comparison with other models."
   ]
  },
  {
   "cell_type": "markdown",
   "metadata": {},
   "source": [
    "## Outcome"
   ]
  },
  {
   "cell_type": "markdown",
   "metadata": {},
   "source": [
    "## Discoveries"
   ]
  },
  {
   "cell_type": "markdown",
   "metadata": {},
   "source": [
    "## Future Plans"
   ]
  }
 ],
 "metadata": {
  "kernelspec": {
   "display_name": "Python 3",
   "language": "python",
   "name": "python3"
  },
  "language_info": {
   "codemirror_mode": {
    "name": "ipython",
    "version": 3
   },
   "file_extension": ".py",
   "mimetype": "text/x-python",
   "name": "python",
   "nbconvert_exporter": "python",
   "pygments_lexer": "ipython3",
   "version": "3.7.3"
  }
 },
 "nbformat": 4,
 "nbformat_minor": 2
}
