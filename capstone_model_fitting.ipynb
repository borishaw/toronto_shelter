{
 "cells": [
  {
   "cell_type": "markdown",
   "metadata": {},
   "source": [
    "# Capstone - Toronto Shelter Occupancy Prediction Model Fitting"
   ]
  },
  {
   "cell_type": "markdown",
   "metadata": {},
   "source": [
    "## Import Modules"
   ]
  },
  {
   "cell_type": "code",
   "execution_count": 94,
   "metadata": {},
   "outputs": [],
   "source": [
    "# Basics\n",
    "import pandas as pd\n",
    "import numpy as np\n",
    "import warnings\n",
    "import matplotlib.pyplot as plt\n",
    "\n",
    "# Models\n",
    "from sklearn.linear_model import LogisticRegression\n",
    "from sklearn.svm import LinearSVC\n",
    "from sklearn.svm import SVC\n",
    "from sklearn.neighbors import KNeighborsClassifier\n",
    "from sklearn.tree import DecisionTreeClassifier\n",
    "from sklearn.neural_network import MLPClassifier\n",
    "from sklearn.model_selection import train_test_split\n",
    "from sklearn.preprocessing import StandardScaler\n",
    "from sklearn.preprocessing import MinMaxScaler\n",
    "from sklearn.pipeline import Pipeline\n",
    "from sklearn.pipeline import make_pipeline\n",
    "from sklearn.ensemble import RandomForestClassifier\n",
    "from sklearn.naive_bayes import GaussianNB\n",
    "\n",
    "# Decomposing\n",
    "from sklearn.decomposition import PCA\n",
    "\n",
    "# Model Evaluations\n",
    "from sklearn.metrics import confusion_matrix\n",
    "from sklearn.metrics import classification_report\n",
    "from sklearn.metrics import precision_score\n",
    "from sklearn.metrics import recall_score\n",
    "from sklearn.metrics import f1_score\n",
    "from sklearn.model_selection import cross_val_score\n",
    "from sklearn.model_selection import GridSearchCV\n",
    "\n",
    "# Ignore warnings\n",
    "warnings.filterwarnings(\"ignore\")"
   ]
  },
  {
   "cell_type": "code",
   "execution_count": 115,
   "metadata": {},
   "outputs": [],
   "source": [
    "# Loading data csv\n",
    "df = pd.read_csv('data/shelter_occupancy_cleaned.csv').drop(['Unnamed: 0'], axis=1)\n",
    "coor_df = pd.read_csv('data/shelter_coordinates.csv').drop(['Unnamed: 0'], axis=1)\n",
    "weather_df = pd.read_csv('data/toronto_weather.csv').drop(['Unnamed: 0'], axis=1)"
   ]
  },
  {
   "cell_type": "markdown",
   "metadata": {},
   "source": [
    "---"
   ]
  },
  {
   "cell_type": "markdown",
   "metadata": {},
   "source": [
    "## Preparing Data"
   ]
  },
  {
   "cell_type": "code",
   "execution_count": 116,
   "metadata": {},
   "outputs": [],
   "source": [
    "# Merging data frames\n",
    "df = pd.merge(df, coor_df, how='left', on='SHELTER_POSTAL_CODE')\n",
    "df = pd.merge(df, weather_df, how='left', on='OCCUPANCY_DATE')"
   ]
  },
  {
   "cell_type": "code",
   "execution_count": 117,
   "metadata": {},
   "outputs": [],
   "source": [
    "# Converting categorical data to dummy variables\n",
    "df = pd.get_dummies(df, columns=['SECTOR', 'sublocality', 'Week_Day'])"
   ]
  },
  {
   "cell_type": "code",
   "execution_count": 118,
   "metadata": {},
   "outputs": [],
   "source": [
    "# Dropping unneeded features before fitting\n",
    "df = df.drop([\n",
    "    'FACILITY_NAME', 'OCCUPANCY_DATE', 'ORGANIZATION_NAME', 'PROGRAM_NAME', 'SHELTER_ADDRESS', 'SHELTER_CITY',\n",
    "    'SHELTER_NAME', 'SHELTER_POSTAL_CODE', 'SHELTER_PROVINCE','lat', 'lng', 'OCCUPANCY',\n",
    "    'Week_Day_Int'\n",
    "], axis=1)"
   ]
  },
  {
   "cell_type": "code",
   "execution_count": 119,
   "metadata": {},
   "outputs": [],
   "source": [
    "# Defining occupancy level (dependent variable)\n",
    "# 1 if occupancy rate is higher than 100%\n",
    "df['OCCUPANCY_LEVEL'] = df.OCCUPANCY_RATE.apply(lambda x : 1 if x >=1 else 0)\n",
    "df = df.drop(['OCCUPANCY_RATE'], axis=1)"
   ]
  },
  {
   "cell_type": "code",
   "execution_count": 120,
   "metadata": {},
   "outputs": [
    {
     "data": {
      "text/plain": [
       "Index(['Mean Temp (°C)', 'Total Precip (mm)'], dtype='object')"
      ]
     },
     "execution_count": 120,
     "metadata": {},
     "output_type": "execute_result"
    }
   ],
   "source": [
    "# It seems that the historical weather data contains null values\n",
    "df.columns[df.isna().any()]"
   ]
  },
  {
   "cell_type": "code",
   "execution_count": 121,
   "metadata": {},
   "outputs": [],
   "source": [
    "# Dropping rows with null weather data\n",
    "df.dropna(inplace=True)"
   ]
  },
  {
   "cell_type": "code",
   "execution_count": 122,
   "metadata": {},
   "outputs": [],
   "source": [
    "# Preparing data for model fitting\n",
    "\n",
    "# Independent variables are shelter data (capacity, day of the week, location, weather, etc.)\n",
    "X = df.loc[:, 'CAPACITY':'Week_Day_WED']\n",
    "\n",
    "# Dependent variable is weather a shelter is full (1 indicates a shelter is full, 0 indicates otherwise)\n",
    "y = df.OCCUPANCY_LEVEL\n",
    "\n",
    "X_train, X_test, y_train, y_test = train_test_split(X, y, test_size=0.7)"
   ]
  },
  {
   "cell_type": "markdown",
   "metadata": {},
   "source": [
    "---\n",
    "## Fitting Models\n",
    "### Logistic Regression"
   ]
  },
  {
   "cell_type": "code",
   "execution_count": 53,
   "metadata": {},
   "outputs": [
    {
     "name": "stdout",
     "output_type": "stream",
     "text": [
      "Accuracy: 0.6368167998303047\n"
     ]
    }
   ],
   "source": [
    "# Trying to fit a Logistic Regression model with default settings\n",
    "logit = LogisticRegression().fit(X_train, y_train)\n",
    "print(f'Accuracy: {logit.score(X_test, y_test)}')"
   ]
  },
  {
   "cell_type": "code",
   "execution_count": 54,
   "metadata": {},
   "outputs": [
    {
     "data": {
      "text/plain": [
       "1    0.609166\n",
       "0    0.390834\n",
       "Name: OCCUPANCY_LEVEL, dtype: float64"
      ]
     },
     "execution_count": 54,
     "metadata": {},
     "output_type": "execute_result"
    }
   ],
   "source": [
    "# Percentage of full and non-full records\n",
    "y.value_counts() / y.shape[0]"
   ]
  },
  {
   "cell_type": "markdown",
   "metadata": {},
   "source": [
    "61% of the records in the data reach full occupancy. A accuracy score of 64% is only slightly better than pure chance."
   ]
  },
  {
   "cell_type": "code",
   "execution_count": 55,
   "metadata": {},
   "outputs": [
    {
     "name": "stdout",
     "output_type": "stream",
     "text": [
      "Precision Score: 0.6518589841783925\n",
      "Recall Score: 0.8653013798111837\n",
      "F1 Score: 0.7435660617558224\n"
     ]
    }
   ],
   "source": [
    "# Precision, Recall & F1 Score \n",
    "y_pred = logit.predict(X_test)\n",
    "print(f'Precision Score: {precision_score(y_test, y_pred)}')\n",
    "print(f'Recall Score: {recall_score(y_test, y_pred)}')\n",
    "print(f'F1 Score: {f1_score(y_test, y_pred)}')"
   ]
  },
  {
   "cell_type": "code",
   "execution_count": 56,
   "metadata": {},
   "outputs": [
    {
     "name": "stdout",
     "output_type": "stream",
     "text": [
      "              precision    recall  f1-score   support\n",
      "\n",
      "           0       0.57      0.28      0.38     22147\n",
      "           1       0.65      0.87      0.74     34425\n",
      "\n",
      "    accuracy                           0.64     56572\n",
      "   macro avg       0.61      0.57      0.56     56572\n",
      "weighted avg       0.62      0.64      0.60     56572\n",
      "\n"
     ]
    }
   ],
   "source": [
    "print(classification_report(y_test, y_pred))"
   ]
  },
  {
   "cell_type": "markdown",
   "metadata": {},
   "source": [
    "The initial logistic model shows an **F1** score of **0.74**. This will be used as a baseline to compare with other models."
   ]
  },
  {
   "cell_type": "markdown",
   "metadata": {},
   "source": [
    "---"
   ]
  },
  {
   "cell_type": "markdown",
   "metadata": {},
   "source": [
    "### SVM"
   ]
  },
  {
   "cell_type": "code",
   "execution_count": 125,
   "metadata": {},
   "outputs": [],
   "source": [
    "# Trying an SVM model with data scaling\n",
    "scaler = StandardScaler()\n",
    "scaler.fit(X_train)\n",
    "X_train = scaler.transform(X_train)"
   ]
  },
  {
   "cell_type": "code",
   "execution_count": 126,
   "metadata": {},
   "outputs": [
    {
     "name": "stdout",
     "output_type": "stream",
     "text": [
      "              precision    recall  f1-score   support\n",
      "\n",
      "           0       0.61      0.37      0.46     22223\n",
      "           1       0.68      0.85      0.75     34595\n",
      "\n",
      "    accuracy                           0.66     56818\n",
      "   macro avg       0.64      0.61      0.60     56818\n",
      "weighted avg       0.65      0.66      0.64     56818\n",
      "\n"
     ]
    }
   ],
   "source": [
    "rbf_svc = SVC(kernel='rbf').fit(X_train, y_train)\n",
    "X_test = scaler.transform(X_test)\n",
    "\n",
    "y_pred = rbf_svc.predict(X_test)\n",
    "print(classification_report(y_test, y_pred))"
   ]
  },
  {
   "cell_type": "markdown",
   "metadata": {},
   "source": [
    "The SVM model is able to achieve an **F1** score of **0.66**, which is a minor improvement."
   ]
  },
  {
   "cell_type": "markdown",
   "metadata": {},
   "source": [
    "---"
   ]
  },
  {
   "cell_type": "markdown",
   "metadata": {},
   "source": [
    "### PCA"
   ]
  },
  {
   "cell_type": "code",
   "execution_count": 68,
   "metadata": {},
   "outputs": [
    {
     "data": {
      "text/plain": [
       "PCA(copy=True, iterated_power='auto', n_components=0.9, random_state=None,\n",
       "    svd_solver='auto', tol=0.0, whiten=False)"
      ]
     },
     "execution_count": 68,
     "metadata": {},
     "output_type": "execute_result"
    }
   ],
   "source": [
    "# Decomposing with PCA\n",
    "# Selecting the first 90% Principal Components\n",
    "pca = PCA(0.9)\n",
    "pca.fit(X_train)"
   ]
  },
  {
   "cell_type": "code",
   "execution_count": 69,
   "metadata": {},
   "outputs": [
    {
     "data": {
      "text/plain": [
       "(15, 22)"
      ]
     },
     "execution_count": 69,
     "metadata": {},
     "output_type": "execute_result"
    }
   ],
   "source": [
    "# Checking the size of the Principal Components\n",
    "pca.components_.shape"
   ]
  },
  {
   "cell_type": "code",
   "execution_count": 64,
   "metadata": {},
   "outputs": [
    {
     "data": {
      "image/png": "[encoded data removed]",
      "text/plain": [
       "<Figure size 1440x360 with 1 Axes>"
      ]
     },
     "metadata": {
      "needs_background": "light"
     },
     "output_type": "display_data"
    }
   ],
   "source": [
    "# Visualize the importance of each Principal Component\n",
    "plt.figure(figsize=(20,5))\n",
    "plt.bar(range(1, len(pca.explained_variance_ratio_) + 1), pca.explained_variance_ratio_)\n",
    "plt.show()"
   ]
  },
  {
   "cell_type": "markdown",
   "metadata": {},
   "source": [
    "It seems that the first **15** components in PCA are able to explain 90% of the significance. It'd be reasonable to set the number of components to **15** in further model fitting."
   ]
  },
  {
   "cell_type": "markdown",
   "metadata": {},
   "source": [
    "---"
   ]
  },
  {
   "cell_type": "markdown",
   "metadata": {},
   "source": [
    "### Logistic Regression with Pipeline"
   ]
  },
  {
   "cell_type": "code",
   "execution_count": 80,
   "metadata": {},
   "outputs": [
    {
     "name": "stdout",
     "output_type": "stream",
     "text": [
      "[0.62556701 0.6228866  0.62219014 0.62541254 0.62974422]\n"
     ]
    }
   ],
   "source": [
    "# Pipeline to find better models\n",
    "pipe = make_pipeline(StandardScaler(), PCA(n_components=15), LogisticRegression())\n",
    "\n",
    "# Use cross validation score to check if overfitting\n",
    "print(cross_val_score(pipe, X_train, y_train, cv=5))"
   ]
  },
  {
   "cell_type": "code",
   "execution_count": 90,
   "metadata": {},
   "outputs": [],
   "source": [
    "# Trying logistic regression grid search with different hyperparameters\n",
    "estimators = [('scaler', StandardScaler()),\n",
    "              ('model', LogisticRegression())]\n",
    "\n",
    "pipe_logit = Pipeline(estimators)\n",
    "params_logit = [\n",
    "    {'model': [LogisticRegression()],\n",
    "     'scaler': [None, StandardScaler(), MinMaxScaler()],\n",
    "     'model__C': [0.001, 0.01, 0.1, 1, 10, 100, 1000],\n",
    "     'model__penalty': ['l1','l2']}\n",
    "]\n",
    "\n",
    "grid_logit = GridSearchCV(pipe_logit, params_logit, cv=5)\n",
    "grid_logit_fitted = grid_logit.fit(X_train, y_train)"
   ]
  },
  {
   "cell_type": "code",
   "execution_count": 93,
   "metadata": {},
   "outputs": [
    {
     "name": "stdout",
     "output_type": "stream",
     "text": [
      "Pipeline(memory=None,\n",
      "         steps=[('scaler',\n",
      "                 StandardScaler(copy=True, with_mean=True, with_std=True)),\n",
      "                ('model',\n",
      "                 LogisticRegression(C=1, class_weight=None, dual=False,\n",
      "                                    fit_intercept=True, intercept_scaling=1,\n",
      "                                    l1_ratio=None, max_iter=100,\n",
      "                                    multi_class='warn', n_jobs=None,\n",
      "                                    penalty='l2', random_state=None,\n",
      "                                    solver='warn', tol=0.0001, verbose=0,\n",
      "                                    warm_start=False))],\n",
      "         verbose=False)\n"
     ]
    }
   ],
   "source": [
    "grid_logit_fitted.best_estimator_"
   ]
  },
  {
   "cell_type": "markdown",
   "metadata": {},
   "source": [
    "It seems that a model with default setting **(L2, C=1)** and scaled data with **Standard Scaler** yields the best result."
   ]
  },
  {
   "cell_type": "markdown",
   "metadata": {},
   "source": [
    "---"
   ]
  },
  {
   "cell_type": "markdown",
   "metadata": {},
   "source": [
    "### Random Forest with Grid Search"
   ]
  },
  {
   "cell_type": "code",
   "execution_count": 97,
   "metadata": {
    "collapsed": true
   },
   "outputs": [
    {
     "name": "stdout",
     "output_type": "stream",
     "text": [
      "Fitting 5 folds for each of 348 candidates, totalling 1740 fits\n"
     ]
    },
    {
     "name": "stderr",
     "output_type": "stream",
     "text": [
      "[Parallel(n_jobs=-1)]: Using backend LokyBackend with 4 concurrent workers.\n",
      "[Parallel(n_jobs=-1)]: Done   5 tasks      | elapsed:    3.5s\n",
      "[Parallel(n_jobs=-1)]: Done  10 tasks      | elapsed:    3.7s\n",
      "[Parallel(n_jobs=-1)]: Done  17 tasks      | elapsed:    4.0s\n",
      "[Parallel(n_jobs=-1)]: Done  24 tasks      | elapsed:    4.2s\n",
      "[Parallel(n_jobs=-1)]: Done  33 tasks      | elapsed:    4.7s\n",
      "[Parallel(n_jobs=-1)]: Done  42 tasks      | elapsed:    5.2s\n",
      "[Parallel(n_jobs=-1)]: Done  53 tasks      | elapsed:    6.3s\n",
      "[Parallel(n_jobs=-1)]: Done  64 tasks      | elapsed:    6.9s\n",
      "[Parallel(n_jobs=-1)]: Done  77 tasks      | elapsed:    7.7s\n",
      "[Parallel(n_jobs=-1)]: Done  90 tasks      | elapsed:    8.7s\n",
      "[Parallel(n_jobs=-1)]: Done 105 tasks      | elapsed:    9.7s\n",
      "[Parallel(n_jobs=-1)]: Done 120 tasks      | elapsed:   10.9s\n",
      "[Parallel(n_jobs=-1)]: Done 137 tasks      | elapsed:   12.4s\n",
      "[Parallel(n_jobs=-1)]: Done 154 tasks      | elapsed:   14.0s\n",
      "[Parallel(n_jobs=-1)]: Done 173 tasks      | elapsed:   15.9s\n",
      "[Parallel(n_jobs=-1)]: Done 192 tasks      | elapsed:   17.9s\n",
      "[Parallel(n_jobs=-1)]: Done 213 tasks      | elapsed:   20.4s\n",
      "[Parallel(n_jobs=-1)]: Done 234 tasks      | elapsed:   23.1s\n",
      "[Parallel(n_jobs=-1)]: Done 257 tasks      | elapsed:   26.1s\n",
      "[Parallel(n_jobs=-1)]: Done 280 tasks      | elapsed:   29.3s\n",
      "[Parallel(n_jobs=-1)]: Done 305 tasks      | elapsed:   32.0s\n",
      "[Parallel(n_jobs=-1)]: Done 330 tasks      | elapsed:   34.4s\n",
      "[Parallel(n_jobs=-1)]: Done 357 tasks      | elapsed:   36.5s\n",
      "[Parallel(n_jobs=-1)]: Done 384 tasks      | elapsed:   39.4s\n",
      "[Parallel(n_jobs=-1)]: Done 413 tasks      | elapsed:   42.4s\n",
      "[Parallel(n_jobs=-1)]: Done 442 tasks      | elapsed:   45.9s\n",
      "[Parallel(n_jobs=-1)]: Done 473 tasks      | elapsed:   50.1s\n",
      "[Parallel(n_jobs=-1)]: Done 504 tasks      | elapsed:   53.8s\n",
      "[Parallel(n_jobs=-1)]: Done 537 tasks      | elapsed:   59.2s\n",
      "[Parallel(n_jobs=-1)]: Done 570 tasks      | elapsed:  1.1min\n",
      "[Parallel(n_jobs=-1)]: Done 605 tasks      | elapsed:  1.2min\n",
      "[Parallel(n_jobs=-1)]: Done 640 tasks      | elapsed:  1.3min\n",
      "[Parallel(n_jobs=-1)]: Done 677 tasks      | elapsed:  1.4min\n",
      "[Parallel(n_jobs=-1)]: Done 714 tasks      | elapsed:  1.5min\n",
      "[Parallel(n_jobs=-1)]: Done 753 tasks      | elapsed:  1.6min\n",
      "[Parallel(n_jobs=-1)]: Done 792 tasks      | elapsed:  1.8min\n",
      "[Parallel(n_jobs=-1)]: Done 833 tasks      | elapsed:  1.9min\n",
      "[Parallel(n_jobs=-1)]: Done 874 tasks      | elapsed:  2.1min\n",
      "[Parallel(n_jobs=-1)]: Done 917 tasks      | elapsed:  2.3min\n",
      "[Parallel(n_jobs=-1)]: Done 960 tasks      | elapsed:  2.4min\n",
      "[Parallel(n_jobs=-1)]: Done 1005 tasks      | elapsed:  2.6min\n",
      "[Parallel(n_jobs=-1)]: Done 1050 tasks      | elapsed:  2.8min\n",
      "[Parallel(n_jobs=-1)]: Done 1097 tasks      | elapsed:  3.0min\n",
      "[Parallel(n_jobs=-1)]: Done 1144 tasks      | elapsed:  3.2min\n",
      "[Parallel(n_jobs=-1)]: Done 1193 tasks      | elapsed:  3.5min\n",
      "[Parallel(n_jobs=-1)]: Done 1242 tasks      | elapsed:  3.7min\n",
      "[Parallel(n_jobs=-1)]: Done 1293 tasks      | elapsed:  3.9min\n",
      "[Parallel(n_jobs=-1)]: Done 1344 tasks      | elapsed:  4.2min\n",
      "[Parallel(n_jobs=-1)]: Done 1397 tasks      | elapsed:  4.4min\n",
      "[Parallel(n_jobs=-1)]: Done 1450 tasks      | elapsed:  4.7min\n",
      "[Parallel(n_jobs=-1)]: Done 1505 tasks      | elapsed:  5.0min\n",
      "[Parallel(n_jobs=-1)]: Done 1560 tasks      | elapsed:  5.2min\n",
      "[Parallel(n_jobs=-1)]: Done 1617 tasks      | elapsed:  5.5min\n",
      "[Parallel(n_jobs=-1)]: Done 1674 tasks      | elapsed:  5.8min\n",
      "[Parallel(n_jobs=-1)]: Done 1733 tasks      | elapsed:  6.1min\n",
      "[Parallel(n_jobs=-1)]: Done 1740 out of 1740 | elapsed:  6.2min finished\n"
     ]
    },
    {
     "data": {
      "text/plain": [
       "0.7395177826486601"
      ]
     },
     "execution_count": 97,
     "metadata": {},
     "output_type": "execute_result"
    }
   ],
   "source": [
    "# Fitting different Random Forest models\n",
    "pipe_rf = Pipeline([('scale', StandardScaler()), ('pca', PCA()), ('model', RandomForestClassifier())])\n",
    "\n",
    "param_rf = [\n",
    "    {'scale':[StandardScaler(), None], 'pca':[None], 'model':[RandomForestClassifier()],\n",
    "    'model__max_depth':np.arange(1,30)},\n",
    "    {'scale':[StandardScaler(), None], 'pca':[PCA()], 'model':[RandomForestClassifier()],\n",
    "    'model__max_depth':np.arange(1,30),\n",
    "    'pca__n_components':[3, 5, 10, 15, 20]}\n",
    "]\n",
    "\n",
    "grid_rf = GridSearchCV(pipe_rf, param_rf, cv=5, verbose=10, n_jobs=-1)\n",
    "grid_rf_fitted = grid_rf.fit(X_train, y_train)\n",
    "\n",
    "grid_rf_fitted.score(X_test, y_test)"
   ]
  },
  {
   "cell_type": "code",
   "execution_count": 103,
   "metadata": {},
   "outputs": [
    {
     "data": {
      "text/plain": [
       "Pipeline(memory=None,\n",
       "         steps=[('scale', None),\n",
       "                ('pca',\n",
       "                 PCA(copy=True, iterated_power='auto', n_components=5,\n",
       "                     random_state=None, svd_solver='auto', tol=0.0,\n",
       "                     whiten=False)),\n",
       "                ('model',\n",
       "                 RandomForestClassifier(bootstrap=True, class_weight=None,\n",
       "                                        criterion='gini', max_depth=14,\n",
       "                                        max_features='auto',\n",
       "                                        max_leaf_nodes=None,\n",
       "                                        min_impurity_decrease=0.0,\n",
       "                                        min_impurity_split=None,\n",
       "                                        min_samples_leaf=1, min_samples_split=2,\n",
       "                                        min_weight_fraction_leaf=0.0,\n",
       "                                        n_estimators=10, n_jobs=None,\n",
       "                                        oob_score=False, random_state=None,\n",
       "                                        verbose=0, warm_start=False))],\n",
       "         verbose=False)"
      ]
     },
     "execution_count": 103,
     "metadata": {},
     "output_type": "execute_result"
    }
   ],
   "source": [
    "grid_rf_fitted.best_estimator_"
   ]
  },
  {
   "cell_type": "code",
   "execution_count": 102,
   "metadata": {},
   "outputs": [
    {
     "name": "stdout",
     "output_type": "stream",
     "text": [
      "              precision    recall  f1-score   support\n",
      "\n",
      "           0       0.71      0.56      0.63     22229\n",
      "           1       0.75      0.85      0.80     34343\n",
      "\n",
      "    accuracy                           0.74     56572\n",
      "   macro avg       0.73      0.71      0.71     56572\n",
      "weighted avg       0.74      0.74      0.73     56572\n",
      "\n"
     ]
    }
   ],
   "source": [
    "y_pred_rf = grid_rf_fitted.predict(X_test)\n",
    "print(classification_report(y_test, y_pred_rf))"
   ]
  },
  {
   "cell_type": "markdown",
   "metadata": {},
   "source": [
    "A Random Forest model with a number of trees of **10**, with data decomposed with **5** principal components, yields the best result. It is able to achieve an **F1** score of **0.80** and accuracy rate of **74%**."
   ]
  },
  {
   "cell_type": "markdown",
   "metadata": {},
   "source": [
    "---"
   ]
  }
 ],
 "metadata": {
  "kernelspec": {
   "display_name": "Python 3",
   "language": "python",
   "name": "python3"
  },
  "language_info": {
   "codemirror_mode": {
    "name": "ipython",
    "version": 3
   },
   "file_extension": ".py",
   "mimetype": "text/x-python",
   "name": "python",
   "nbconvert_exporter": "python",
   "pygments_lexer": "ipython3",
   "version": "3.7.3"
  }
 },
 "nbformat": 4,
 "nbformat_minor": 2
}
