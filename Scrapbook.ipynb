{
 "cells": [
  {
   "cell_type": "code",
   "execution_count": null,
   "metadata": {},
   "outputs": [],
   "source": [
    "# Checking facilities with multiple programs\n",
    "facility_names = df.FACILITY_NAME.unique()\n",
    "facility_programs = {}\n",
    "for facility_name in facility_names:\n",
    "    program_count = len(df[df.FACILITY_NAME == facility_name].PROGRAM_NAME.unique())\n",
    "    if program_count > 1:\n",
    "        facility_programs[facility_name] = df[df.FACILITY_NAME == facility_name].PROGRAM_NAME.unique()"
   ]
  },
  {
   "cell_type": "code",
   "execution_count": null,
   "metadata": {},
   "outputs": [],
   "source": [
    "# Checking programs with multiple facilities\n",
    "program_names = df.PROGRAM_NAME.unique()\n",
    "program_facilities = {}\n",
    "for program_name in program_names:\n",
    "    unique_facility_names = df[df.PROGRAM_NAME == program_name].FACILITY_NAME.unique()\n",
    "    facility_count = len(unique_facility_names)\n",
    "    if facility_count > 1:\n",
    "        program_facilities[program_name] = unique_facility_names"
   ]
  },
  {
   "cell_type": "code",
   "execution_count": 77,
   "metadata": {},
   "outputs": [],
   "source": [
    "# Calculate daylight length\n",
    "\n",
    "import datetime\n",
    "from astral import Astral\n",
    "latitude = 43.7001100\n",
    "longitude = -79.4163000\n",
    "a = Astral()\n",
    "sr, ss = a.daylight_utc(datetime.date(2019,6,21), latitude, longitude)\n",
    "daylight_hours = lambda ss, sr : (ss - sr).seconds / 3600"
   ]
  },
  {
   "cell_type": "code",
   "execution_count": 82,
   "metadata": {},
   "outputs": [],
   "source": [
    "def get_daylight_hours(year, month, day):\n",
    "    sr, ss = a.daylight_utc(datetime.date(year,month,day), latitude, longitude)\n",
    "    return (ss - sr).seconds / 3600"
   ]
  },
  {
   "cell_type": "code",
   "execution_count": 83,
   "metadata": {},
   "outputs": [
    {
     "data": {
      "text/plain": [
       "15.4475"
      ]
     },
     "execution_count": 83,
     "metadata": {},
     "output_type": "execute_result"
    }
   ],
   "source": [
    "get_daylight_hours(2019,6,21)"
   ]
  }
 ],
 "metadata": {
  "kernelspec": {
   "display_name": "Python 3",
   "language": "python",
   "name": "python3"
  },
  "language_info": {
   "codemirror_mode": {
    "name": "ipython",
    "version": 3
   },
   "file_extension": ".py",
   "mimetype": "text/x-python",
   "name": "python",
   "nbconvert_exporter": "python",
   "pygments_lexer": "ipython3",
   "version": "3.7.3"
  }
 },
 "nbformat": 4,
 "nbformat_minor": 2
}
