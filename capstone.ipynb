{
 "cells": [
  {
   "cell_type": "markdown",
   "metadata": {},
   "source": [
    "# Capstone - Toronto Shelter Occupancy Prediction"
   ]
  },
  {
   "cell_type": "markdown",
   "metadata": {},
   "source": [
    "## Import Modules"
   ]
  },
  {
   "cell_type": "code",
   "execution_count": 2,
   "metadata": {},
   "outputs": [],
   "source": [
    "import pandas as pd\n",
    "import IPython\n",
    "import plotly.graph_objects as go\n",
    "import plotly.express as px\n",
    "import warnings\n",
    "import suntime\n",
    "import datetime\n",
    "from astral import Astral\n",
    "\n",
    "# Ignore warnings\n",
    "warnings.filterwarnings(\"ignore\")"
   ]
  },
  {
   "cell_type": "markdown",
   "metadata": {},
   "source": [
    "---"
   ]
  },
  {
   "cell_type": "markdown",
   "metadata": {},
   "source": [
    "## Data Clearning & Feature Engineering"
   ]
  },
  {
   "cell_type": "code",
   "execution_count": 92,
   "metadata": {},
   "outputs": [],
   "source": [
    "# Getting occupancy data\n",
    "df_17 = pd.read_csv('data/daily-shelter-occupancy-2017-csv.csv')\n",
    "df_18 = pd.read_csv('data/daily-shelter-occupancy-2018-csv.csv')\n",
    "df_19 = pd.read_json('https://ckan0.cf.opendata.inter.prod-toronto.ca/download_resource/e4cdcaff-7c06-488a-a072-4880fbd84b88')\n",
    "df = pd.concat([df_17, df_18, df_19])"
   ]
  },
  {
   "cell_type": "code",
   "execution_count": 93,
   "metadata": {},
   "outputs": [],
   "source": [
    "# Dropping unuseful columns\n",
    "df.drop(['_id', 'id'], axis=1, inplace=True)"
   ]
  },
  {
   "cell_type": "code",
   "execution_count": 95,
   "metadata": {},
   "outputs": [
    {
     "data": {
      "text/plain": [
       "Index(['Family Residence - AL Site (Internal Referral Only)'], dtype='object')"
      ]
     },
     "execution_count": 95,
     "metadata": {},
     "output_type": "execute_result"
    }
   ],
   "source": [
    "df[(df.CAPACITY.isna() | df.CAPACITY == 0) & (df.OCCUPANCY != 0 | df.OCCUPANCY.isna())]['PROGRAM_NAME'].value_counts().index"
   ]
  },
  {
   "cell_type": "code",
   "execution_count": 89,
   "metadata": {},
   "outputs": [],
   "source": [
    "# Checking if there are any rows with null or zero value in CAPACITY but non-zero value in OCCUPANCY\n",
    "for program in df[(df.CAPACITY.isna() | df.CAPACITY == 0) & (df.OCCUPANCY != 0)]['PROGRAM_NAME'].value_counts().index:\n",
    "    # Assuming the max OCCUPANCY as the CAPACITY\n",
    "    df.loc[df.PROGRAM_NAME == program, 'CAPACITY'] = df[df.PROGRAM_NAME == program].OCCUPANCY.max()"
   ]
  },
  {
   "cell_type": "code",
   "execution_count": 100,
   "metadata": {},
   "outputs": [],
   "source": [
    "# Checking if there are any rows with null or zero values in OCCUPANCY, and drop these rows\n",
    "df.drop(df[(df.OCCUPANCY == 0) | (df.OCCUPANCY.isna())].index, inplace=True)"
   ]
  },
  {
   "cell_type": "code",
   "execution_count": 109,
   "metadata": {},
   "outputs": [
    {
     "data": {
      "text/plain": [
       "Index(['CAPACITY', 'FACILITY_NAME', 'OCCUPANCY', 'OCCUPANCY_DATE',\n",
       "       'ORGANIZATION_NAME', 'PROGRAM_NAME', 'SECTOR', 'SHELTER_ADDRESS',\n",
       "       'SHELTER_CITY', 'SHELTER_NAME', 'SHELTER_POSTAL_CODE',\n",
       "       'SHELTER_PROVINCE'],\n",
       "      dtype='object')"
      ]
     },
     "execution_count": 109,
     "metadata": {},
     "output_type": "execute_result"
    }
   ],
   "source": [
    "df.columns"
   ]
  },
  {
   "cell_type": "code",
   "execution_count": 114,
   "metadata": {},
   "outputs": [
    {
     "data": {
      "text/plain": [
       "Index(['38 Bathrust St', '67 Adelaide Street East', '1673 Kingston Road',\n",
       "       '1651 Sheppard Ave West', '129 Peter St'],\n",
       "      dtype='object')"
      ]
     },
     "execution_count": 114,
     "metadata": {},
     "output_type": "execute_result"
    }
   ],
   "source": [
    "df[df.SHELTER_POSTAL_CODE.isna()].SHELTER_ADDRESS.value_counts().index"
   ]
  },
  {
   "cell_type": "code",
   "execution_count": 120,
   "metadata": {},
   "outputs": [
    {
     "data": {
      "text/plain": [
       "19    M5V 3W3\n",
       "Name: SHELTER_POSTAL_CODE, dtype: object"
      ]
     },
     "execution_count": 120,
     "metadata": {},
     "output_type": "execute_result"
    }
   ],
   "source": [
    "df[(df.SHELTER_ADDRESS == '38 Bathrust St') & (df.SHELTER_POSTAL_CODE.notnull())].iloc[:1]['SHELTER_POSTAL_CODE']"
   ]
  },
  {
   "cell_type": "code",
   "execution_count": 113,
   "metadata": {},
   "outputs": [],
   "source": [
    "# Cleaning postal code format\n",
    "for address in df[df.SHELTER_POSTAL_CODE.isna()].SHELTER_ADDRESS.value_counts().index:\n",
    "    df[(df.SHELTER_ADDRESS == address) & (df.SHELTER_POSTAL_CODE.notnull())]"
   ]
  },
  {
   "cell_type": "code",
   "execution_count": 38,
   "metadata": {},
   "outputs": [],
   "source": [
    "# Calculating occupancy rate\n",
    "df['OCCUPANCY_RATE'] = df.OCCUPANCY / df.CAPACITY"
   ]
  },
  {
   "cell_type": "code",
   "execution_count": 25,
   "metadata": {},
   "outputs": [],
   "source": [
    "# Gettting weather data\n",
    "weather_2017_df = pd.read_csv('data/2017-toronto-weather.csv')\n",
    "weather_2018_df = pd.read_csv('data/2018-toronto-weather.csv')\n",
    "weather_2019_df = pd.read_csv('https://climate.weather.gc.ca/climate_data/bulk_data_e.html?format=csv&stationID=31688&Year=2019&timeframe=2&submit=Download+Data')\n",
    "weather_df = pd.concat([weather_2017_df, weather_2018_df, weather_2019_df])"
   ]
  },
  {
   "cell_type": "code",
   "execution_count": 26,
   "metadata": {},
   "outputs": [],
   "source": [
    "# Cleaning weather data, dropping unnecessary columns\n",
    "weather_df = weather_df.drop(['Longitude (x)', 'Latitude (y)', 'Station Name', 'Climate ID', 'Data Quality',\n",
    "       'Max Temp Flag', 'Min Temp Flag', 'Mean Temp Flag', 'Heat Deg Days Flag', 'Cool Deg Days Flag',\n",
    "       'Total Rain Flag', 'Total Snow Flag', 'Total Precip Flag', 'Snow on Grnd (cm)',\n",
    "       'Snow on Grnd Flag', 'Dir of Max Gust (10s deg)', 'Dir of Max Gust Flag', 'Spd of Max Gust (km/h)',\n",
    "       'Spd of Max Gust Flag','Total Rain (mm)', 'Total Snow (cm)', \n",
    "        'Heat Deg Days (°C)', 'Cool Deg Days (°C)'], axis=1)"
   ]
  },
  {
   "cell_type": "code",
   "execution_count": 27,
   "metadata": {},
   "outputs": [],
   "source": [
    "# Calculating the lengths of daylight each day in hours\n",
    "\n",
    "# Coordinates of Toronto\n",
    "latitude = 43.7001100\n",
    "longitude = -79.4163000\n",
    "\n",
    "# Function to calculate daylight hours in Toronto on a specific day\n",
    "def get_daylight_hours(year, month, day):\n",
    "    astral = Astral()\n",
    "    sr, ss = astral.daylight_utc(datetime.date(year,month,day), latitude, longitude)\n",
    "    return (ss - sr).seconds / 3600\n",
    "\n",
    "weather_df['Daylight_Hours'] = weather_df.apply(lambda df : get_daylight_hours(df.Year, df.Month, df.Day), axis=1)"
   ]
  },
  {
   "cell_type": "code",
   "execution_count": 39,
   "metadata": {},
   "outputs": [],
   "source": [
    "# Selecting year round shelter programs (ones that have existed since 2017-01-01)\n",
    "program_value_counts = df.PROGRAM_NAME.value_counts()\n",
    "program_value_counts = program_value_counts[program_value_counts == program_value_counts.max()]\n",
    "year_round_programs = program_value_counts.index\n",
    "df_year_round = df[df.ORGANIZATION_NAME.isin(year_round_programs)]"
   ]
  }
 ],
 "metadata": {
  "kernelspec": {
   "display_name": "Python 3",
   "language": "python",
   "name": "python3"
  },
  "language_info": {
   "codemirror_mode": {
    "name": "ipython",
    "version": 3
   },
   "file_extension": ".py",
   "mimetype": "text/x-python",
   "name": "python",
   "nbconvert_exporter": "python",
   "pygments_lexer": "ipython3",
   "version": "3.7.3"
  }
 },
 "nbformat": 4,
 "nbformat_minor": 2
}
