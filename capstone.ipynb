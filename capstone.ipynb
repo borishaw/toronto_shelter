{
 "cells": [
  {
   "cell_type": "markdown",
   "metadata": {},
   "source": [
    "# Capstone - Toronto Shelter Occupancy Prediction"
   ]
  },
  {
   "cell_type": "markdown",
   "metadata": {},
   "source": [
    "## Import Modules"
   ]
  },
  {
   "cell_type": "code",
   "execution_count": 2,
   "metadata": {},
   "outputs": [],
   "source": [
    "import pandas as pd\n",
    "import IPython\n",
    "import plotly.graph_objects as go\n",
    "import plotly.express as px\n",
    "import warnings\n",
    "\n",
    "# Ignore warnings\n",
    "warnings.filterwarnings(\"ignore\")"
   ]
  },
  {
   "cell_type": "code",
   "execution_count": 3,
   "metadata": {},
   "outputs": [],
   "source": [
    "# Getting occupancy data\n",
    "df_17 = pd.read_csv('data/daily-shelter-occupancy-2017-csv.csv')\n",
    "df_18 = pd.read_csv('data/daily-shelter-occupancy-2018-csv.csv')\n",
    "df_19 = pd.read_json('https://ckan0.cf.opendata.inter.prod-toronto.ca/download_resource/e4cdcaff-7c06-488a-a072-4880fbd84b88')\n",
    "df = pd.concat([df_17, df_18, df_19])"
   ]
  },
  {
   "cell_type": "code",
   "execution_count": 4,
   "metadata": {},
   "outputs": [],
   "source": [
    "# Gettting weather data\n",
    "weather_2017_df = pd.read_csv('data/2017-toronto-weather.csv')\n",
    "weather_2018_df = pd.read_csv('data/2018-toronto-weather.csv')\n",
    "weather_2019_df = pd.read_csv('https://climate.weather.gc.ca/climate_data/bulk_data_e.html?format=csv&stationID=31688&Year=2019&timeframe=2&submit=Download+Data')"
   ]
  },
  {
   "cell_type": "code",
   "execution_count": null,
   "metadata": {},
   "outputs": [],
   "source": [
    "# Clea\n",
    "weather_2017_df.drop([\n",
    "    'Longitude (x)', \n",
    "    'Latitude (y)', \n",
    "    'Station Name', \n",
    "    'Climate ID',\n",
    "    'Data Quality',\n",
    "    'Max Temp Flag',\n",
    "    'Min Temp Flag',\n",
    "    'Total Precip Flag',\n",
    "    'Snow on Grnd Flag',\n",
    "    'Dir of Max Gust (10s deg)',\n",
    "    'Dir of Max Gust Flag',\n",
    "    'Spd of Max Gust Flag',\n",
    "    'Mean Temp Flag',\n",
    "    'Heat Deg Days Flag'\n",
    "], axis=1)"
   ]
  },
  {
   "cell_type": "code",
   "execution_count": 18,
   "metadata": {},
   "outputs": [],
   "source": [
    "# Select year round shelters\n",
    "program_value_counts = df.PROGRAM_NAME.value_counts()\n",
    "program_value_counts = program_value_counts[program_value_counts == program_value_counts.max()]\n",
    "year_round_programs = program_value_counts.index\n",
    "df_year_around = df[df.ORGANIZATION_NAME.isin(year_round_programs)]"
   ]
  },
  {
   "cell_type": "code",
   "execution_count": 24,
   "metadata": {
    "scrolled": true
   },
   "outputs": [
    {
     "name": "stdout",
     "output_type": "stream",
     "text": [
      "Fred Victor - Bethlehem United Extreme Weather Program\n",
      "Covenant House Residence\n",
      "Homes First Society - Scarborough Shelter\n",
      "Streets to Homes Bedded Program\n",
      "Birkdale Residence - Bedded Program\n",
      "YMCA House-Vanauley\n",
      "YMCA Sprott House Walmer rd.\n",
      "Family Residence - Main\n",
      "TCH (program)\n",
      "St.Vincent De Paul - Elisa House\n",
      "Youth without Shelter Emergency Shelter Program\n",
      "Family Residence - MA Site (Internal Referral Only)\n",
      "Salvation Army - Florence Booth Extreme Weather Program\n",
      "Dixon Hall - Heyworth House\n",
      "Fred Victor Women's Hostel Program\n",
      "S.A. Evangeline - Emergency Weather\n",
      "Na-Me-Res (Native Men's Residence)\n",
      "Homes First Society - Flex Program\n",
      "Fort York Extreme Weather Program\n",
      "Fred Victor Transition to Housing:  Bedded Program\n",
      "Womens' Residence - Bellwoods House\n",
      "Red Door - Family Shelter\n",
      "Salvation Army - Florence Booth Womens Ministry\n",
      "Womens' Residence - Main Program\n",
      "Fife House Denison Program\n",
      "Fred Victor Bethlehem United Program\n",
      "Downsview Dells Bedded Program\n",
      "YWCA - Youth Shelter\n",
      "Native Child & Family Services Toronto\n",
      "Fred Victor T2H Bedded Program\n",
      "COSTI Reception Ctr CITY Program\n",
      "S.A. Maxwell Meighen Transition to Housing\n",
      "Bailey House\n",
      "Sojourn House Transitional Housing Program\n",
      "St. Simon's Extreme Weather Program\n",
      "Covenant House -  Transitional Safe Beds for women\n",
      "Family Residence - LI Site (Internal Referral Only)\n",
      "S.A. Evangeline Residence - Women's Ministry\n",
      "Eva's Place\n",
      "Family Residence - Roycroft Site\n",
      "Fort York SRO Units Program\n",
      "Christie Refugee Welcome Ctr - Settlement and Support\n",
      "Salvation Army - Maxwell Meighen - Extreme Weather Program\n",
      "Eva's Phoenix\n",
      "Salvation Army - Gateway - Men's Hostel\n",
      "Dixon Hall - Extreme Weather Program\n",
      "St.Vincent De Paul - Mary's Home - Emergency Shelter\n",
      "Homes First Society- Kennedy Shelter Women's Program\n",
      "Scott Mission - Extreme Weather Program\n",
      "Turning Point Youth Services Shelter\n",
      "Sagatay\n",
      "Horizons for Youth\n",
      "St.Vincent De Paul - Amelie House - Women's Shelter\n",
      "Dixon Hall - Schoolhouse\n",
      "Youth without Shelter Stay In School Program\n",
      "Salvation Army - Gateway - Extreme Weather Beds\n",
      "Street Haven - Emergency Hostel\n",
      "St. Simon's Shelter\n",
      "Covenant House-Rights of Passage\n",
      "SVDP - Mary's Home Extreme Weather Program\n",
      "Sojourn House Bedded Program\n",
      "Kennedy House Youth Shelter:  Bedded Program\n",
      "Seaton House - Hostel Program\n",
      "YWCA - Adult Women Shelter\n",
      "Seaton House - Long Term Program\n",
      "Women's Residence Extreme Weather Program\n",
      "Scott Mission - Men's Ministry Overnight Program\n",
      "Christie Ossington Men's Hostel\n",
      "Eva's Satellite\n",
      "Good Shepherd Centre - D.A.R.E.\n",
      "Seaton House - Hostels Extreme Weather Program\n",
      "Fort York Residence Bedded Program\n",
      "Good Shepherd - Emergency/Resettlement\n",
      "Fred Victor Women's Extreme Weather Program\n",
      "Cornerstone Place\n",
      "Fife-Sherbourne Transitional Program\n",
      "Eva's Satellite Extreme Weather Program\n",
      "Salvation Army - Maxwell Meighen Primary Support Unit\n",
      "Homes First Society - Savard's Womens' Shelter\n",
      "Salvation Army - Maxwell Meighen Emergency Bed Program\n",
      "Homes First Society - Strachan House\n",
      "Barrett House\n",
      "Robertson House - MAIN Program\n",
      "St.Vincent De Paul - St. Clare's Residence - Transitional Housing\n",
      "Street Haven: Extreme Weather Program\n"
     ]
    }
   ],
   "source": [
    "for i in program_value_counts.index:\n",
    "    print(i)"
   ]
  }
 ],
 "metadata": {
  "kernelspec": {
   "display_name": "Python 3",
   "language": "python",
   "name": "python3"
  },
  "language_info": {
   "codemirror_mode": {
    "name": "ipython",
    "version": 3
   },
   "file_extension": ".py",
   "mimetype": "text/x-python",
   "name": "python",
   "nbconvert_exporter": "python",
   "pygments_lexer": "ipython3",
   "version": "3.7.3"
  }
 },
 "nbformat": 4,
 "nbformat_minor": 2
}
