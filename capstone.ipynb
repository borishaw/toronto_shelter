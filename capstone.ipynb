{
 "cells": [
  {
   "cell_type": "markdown",
   "metadata": {},
   "source": [
    "# Capstone - Toronto Shelter Occupancy Prediction"
   ]
  },
  {
   "cell_type": "markdown",
   "metadata": {},
   "source": [
    "## Import Modules"
   ]
  },
  {
   "cell_type": "code",
   "execution_count": 2,
   "metadata": {},
   "outputs": [],
   "source": [
    "import pandas as pd\n",
    "import IPython\n",
    "import plotly.graph_objects as go\n",
    "import plotly.express as px\n",
    "import warnings\n",
    "import suntime\n",
    "import datetime\n",
    "from astral import Astral\n",
    "\n",
    "# Ignore warnings\n",
    "warnings.filterwarnings(\"ignore\")"
   ]
  },
  {
   "cell_type": "markdown",
   "metadata": {},
   "source": [
    "---"
   ]
  },
  {
   "cell_type": "markdown",
   "metadata": {},
   "source": [
    "## Data Clearning & Feature Engineering"
   ]
  },
  {
   "cell_type": "code",
   "execution_count": 92,
   "metadata": {},
   "outputs": [],
   "source": [
    "# Getting occupancy data\n",
    "df_17 = pd.read_csv('data/daily-shelter-occupancy-2017-csv.csv')\n",
    "df_18 = pd.read_csv('data/daily-shelter-occupancy-2018-csv.csv')\n",
    "df_19 = pd.read_json('https://ckan0.cf.opendata.inter.prod-toronto.ca/download_resource/e4cdcaff-7c06-488a-a072-4880fbd84b88')\n",
    "df = pd.concat([df_17, df_18, df_19])"
   ]
  },
  {
   "cell_type": "code",
   "execution_count": 93,
   "metadata": {},
   "outputs": [],
   "source": [
    "# Dropping unuseful columns\n",
    "df.drop(['_id', 'id'], axis=1, inplace=True)"
   ]
  },
  {
   "cell_type": "code",
   "execution_count": 95,
   "metadata": {},
   "outputs": [
    {
     "data": {
      "text/plain": [
       "Index(['Family Residence - AL Site (Internal Referral Only)'], dtype='object')"
      ]
     },
     "execution_count": 95,
     "metadata": {},
     "output_type": "execute_result"
    }
   ],
   "source": [
    "df[(df.CAPACITY.isna() | df.CAPACITY == 0) & (df.OCCUPANCY != 0 | df.OCCUPANCY.isna())]['PROGRAM_NAME'].value_counts().index"
   ]
  },
  {
   "cell_type": "code",
   "execution_count": 89,
   "metadata": {},
   "outputs": [],
   "source": [
    "# Checking if there are any rows with null or zero value in CAPACITY but non-zero value in OCCUPANCY\n",
    "for program in df[(df.CAPACITY.isna() | df.CAPACITY == 0) & (df.OCCUPANCY != 0)]['PROGRAM_NAME'].value_counts().index:\n",
    "    # Assuming the max OCCUPANCY as the CAPACITY\n",
    "    df.loc[df.PROGRAM_NAME == program, 'CAPACITY'] = df[df.PROGRAM_NAME == program].OCCUPANCY.max()"
   ]
  },
  {
   "cell_type": "code",
   "execution_count": 100,
   "metadata": {},
   "outputs": [],
   "source": [
    "# Checking if there are any rows with null or zero values in OCCUPANCY, and drop these rows\n",
    "df.drop(df[(df.OCCUPANCY == 0) | (df.OCCUPANCY.isna())].index, inplace=True)"
   ]
  },
  {
   "cell_type": "code",
   "execution_count": 147,
   "metadata": {},
   "outputs": [],
   "source": [
    "# Getting addresses with empty postal codes\n",
    "missing_postal_code_addresses = df[df.SHELTER_POSTAL_CODE.isna()].SHELTER_ADDRESS.value_counts().index"
   ]
  },
  {
   "cell_type": "code",
   "execution_count": 141,
   "metadata": {},
   "outputs": [],
   "source": [
    "# Checking postal codes with Google Maps\n",
    "postal_dict = {\n",
    "    '38 Bathrust St': 'M5V 3W3',\n",
    "    '67 Adelaide Street East' : 'M5C 1K6', \n",
    "    '1673 Kingston Road' : 'M1N 1S6',\n",
    "    '1651 Sheppard Ave West' : 'M3M 2X4', \n",
    "    '129 Peter St' : 'M5V 1X1'\n",
    "}"
   ]
  },
  {
   "cell_type": "code",
   "execution_count": 149,
   "metadata": {},
   "outputs": [],
   "source": [
    "# Filling missing postal codes\n",
    "for address in missing_postal_code_addresses:\n",
    "    df.loc[df.SHELTER_ADDRESS == address, 'SHELTER_POSTAL_CODE'] = postal_dict[address]"
   ]
  },
  {
   "cell_type": "code",
   "execution_count": 153,
   "metadata": {},
   "outputs": [
    {
     "data": {
      "text/plain": [
       "array(['M5S 2P1', 'M6H 3Z5', 'M6G 3B1', 'M1N 1S6', 'M1P 4V8', 'M1E 2M6',\n",
       "       'M5V 3W3', 'M5A 2R9', 'M5C 1K6', 'M5A-2N2', 'M5T 1H9', 'M6C 1C2',\n",
       "       'M5B 2P3', 'M4C 1L7', 'M5A 2N2', 'M5V 3G9', 'M3B 2T5', 'M2N OE3',\n",
       "       'M4X 1K9', 'M5B 2A1', 'M5C 1M3', 'M6A 2W9', 'M5A 1T3', 'M1K 2B5',\n",
       "       'M6H 1P2', 'M1K 1M2', 'M5V 1G8', 'M6E 4X3', 'M4K 3W5', 'M6G 2N1',\n",
       "       'M5S 2P9', 'M4M 2V8', 'M8Y 1A3', 'M5B 1G6', 'M2M 3S3', 'M4W 1J1',\n",
       "       'M5A 2N9', 'M5A 2V2', 'M6P 1Y5', 'M6J1E6', 'M5C 2H4', 'M5A 2R5',\n",
       "       'M5S 2H1', 'M5R 2T9', 'M4Y 2X9', 'M5T 1C3', 'M5V 2A9', 'M5R 2W7',\n",
       "       'M4T 1C1', 'M9V 1P9', 'M3M 2X4', 'M6L 3C6', 'M4M 1J2', 'M5V 1X1',\n",
       "       'M4Y 2H6', 'M4M 3C3', 'M9V 2X6', 'M1M 1P8', 'M5T 2V9', 'M5R 1K6',\n",
       "       'M1L 4A1'], dtype=object)"
      ]
     },
     "execution_count": 153,
     "metadata": {},
     "output_type": "execute_result"
    }
   ],
   "source": [
    "# Cleaning postal code format\n",
    "df.SHELTER_POSTAL_CODE.unique()"
   ]
  },
  {
   "cell_type": "code",
   "execution_count": 38,
   "metadata": {},
   "outputs": [],
   "source": [
    "# Calculating occupancy rate\n",
    "df['OCCUPANCY_RATE'] = df.OCCUPANCY / df.CAPACITY"
   ]
  },
  {
   "cell_type": "code",
   "execution_count": 25,
   "metadata": {},
   "outputs": [],
   "source": [
    "# Gettting weather data\n",
    "weather_2017_df = pd.read_csv('data/2017-toronto-weather.csv')\n",
    "weather_2018_df = pd.read_csv('data/2018-toronto-weather.csv')\n",
    "weather_2019_df = pd.read_csv('https://climate.weather.gc.ca/climate_data/bulk_data_e.html?format=csv&stationID=31688&Year=2019&timeframe=2&submit=Download+Data')\n",
    "weather_df = pd.concat([weather_2017_df, weather_2018_df, weather_2019_df])"
   ]
  },
  {
   "cell_type": "code",
   "execution_count": 26,
   "metadata": {},
   "outputs": [],
   "source": [
    "# Cleaning weather data, dropping unnecessary columns\n",
    "weather_df = weather_df.drop(['Longitude (x)', 'Latitude (y)', 'Station Name', 'Climate ID', 'Data Quality',\n",
    "       'Max Temp Flag', 'Min Temp Flag', 'Mean Temp Flag', 'Heat Deg Days Flag', 'Cool Deg Days Flag',\n",
    "       'Total Rain Flag', 'Total Snow Flag', 'Total Precip Flag', 'Snow on Grnd (cm)',\n",
    "       'Snow on Grnd Flag', 'Dir of Max Gust (10s deg)', 'Dir of Max Gust Flag', 'Spd of Max Gust (km/h)',\n",
    "       'Spd of Max Gust Flag','Total Rain (mm)', 'Total Snow (cm)', \n",
    "        'Heat Deg Days (°C)', 'Cool Deg Days (°C)'], axis=1)"
   ]
  },
  {
   "cell_type": "code",
   "execution_count": 27,
   "metadata": {},
   "outputs": [],
   "source": [
    "# Calculating the lengths of daylight each day in hours\n",
    "\n",
    "# Coordinates of Toronto\n",
    "latitude = 43.7001100\n",
    "longitude = -79.4163000\n",
    "\n",
    "# Function to calculate daylight hours in Toronto on a specific day\n",
    "def get_daylight_hours(year, month, day):\n",
    "    astral = Astral()\n",
    "    sr, ss = astral.daylight_utc(datetime.date(year,month,day), latitude, longitude)\n",
    "    return (ss - sr).seconds / 3600\n",
    "\n",
    "weather_df['Daylight_Hours'] = weather_df.apply(lambda df : get_daylight_hours(df.Year, df.Month, df.Day), axis=1)"
   ]
  },
  {
   "cell_type": "code",
   "execution_count": 39,
   "metadata": {},
   "outputs": [],
   "source": [
    "# Selecting year round shelter programs (ones that have existed since 2017-01-01)\n",
    "program_value_counts = df.PROGRAM_NAME.value_counts()\n",
    "program_value_counts = program_value_counts[program_value_counts == program_value_counts.max()]\n",
    "year_round_programs = program_value_counts.index\n",
    "df_year_round = df[df.ORGANIZATION_NAME.isin(year_round_programs)]"
   ]
  }
 ],
 "metadata": {
  "kernelspec": {
   "display_name": "Python 3",
   "language": "python",
   "name": "python3"
  },
  "language_info": {
   "codemirror_mode": {
    "name": "ipython",
    "version": 3
   },
   "file_extension": ".py",
   "mimetype": "text/x-python",
   "name": "python",
   "nbconvert_exporter": "python",
   "pygments_lexer": "ipython3",
   "version": "3.7.3"
  }
 },
 "nbformat": 4,
 "nbformat_minor": 2
}
